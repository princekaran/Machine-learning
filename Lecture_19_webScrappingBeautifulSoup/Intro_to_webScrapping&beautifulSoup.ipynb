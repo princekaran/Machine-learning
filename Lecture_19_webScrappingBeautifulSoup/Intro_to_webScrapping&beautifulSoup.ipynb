{
 "cells": [
  {
   "cell_type": "markdown",
   "metadata": {},
   "source": [
    "## Web Scrapping\n",
    "\n",
    "* Technique for extracting information from the internet automatically using our script that simulates human web surfing.\n",
    "* Web scraping helps us extract large volumes of information\n",
    "\n",
    "### Scraping Rules\n",
    "\n",
    "* Check website's Terms and Conditions before you scrap it.\n",
    "* Do not spam the website by making a lot of requests to a specific web page.\n",
    "* Update your code time to time (as websites get updated).\n",
    "\n",
    "### Libraries Used\n",
    "* Beautiful Soup\n",
    "* Selenium\n",
    "* Scrapy\n",
    "\n",
    "### Process\n",
    "* Find the URL you wish to scrape.\n",
    "* Send an HTTP request to that URL and get the HTML a response.\n",
    "* Parse the HTML content.\n",
    "* Inspect the web page and find data that we want to extract.\n",
    "* Extract required data and store it in the required format."
   ]
  },
  {
   "cell_type": "code",
   "execution_count": 1,
   "metadata": {},
   "outputs": [],
   "source": [
    "html = '<!DOCTYPE html>\\\n",
    "<html>\\\n",
    "<head>\\\n",
    "<title>Testing Web Page</title>\\\n",
    "</head>\\\n",
    "<body>\\\n",
    "<h1>Web Scraping</h1>\\\n",
    "<p class = \"abc\">\\\n",
    "Hello ! Good morning. Have a good Day !\\\n",
    "</p>\\\n",
    "<p id = \"def\" >\\\n",
    "<a href=\"https://codingninjas.in/\"> Coding Nnjas </a>\\\n",
    "</p>\\\n",
    "<p class = \"abc\">\\\n",
    "hello\\\n",
    "</p>\\\n",
    "</body>\\\n",
    "</html>'"
   ]
  },
  {
   "cell_type": "code",
   "execution_count": 2,
   "metadata": {
    "scrolled": true
   },
   "outputs": [],
   "source": [
    "from bs4 import BeautifulSoup\n",
    "import requests\n",
    "import pandas as pd"
   ]
  },
  {
   "cell_type": "code",
   "execution_count": 3,
   "metadata": {},
   "outputs": [
    {
     "data": {
      "text/plain": [
       "bs4.BeautifulSoup"
      ]
     },
     "execution_count": 3,
     "metadata": {},
     "output_type": "execute_result"
    }
   ],
   "source": [
    "data = BeautifulSoup(html, 'html.parser')\n",
    "type(data)"
   ]
  },
  {
   "cell_type": "code",
   "execution_count": 4,
   "metadata": {},
   "outputs": [
    {
     "name": "stdout",
     "output_type": "stream",
     "text": [
      "<!DOCTYPE html>\n",
      "<html>\n",
      " <head>\n",
      "  <title>\n",
      "   Testing Web Page\n",
      "  </title>\n",
      " </head>\n",
      " <body>\n",
      "  <h1>\n",
      "   Web Scraping\n",
      "  </h1>\n",
      "  <p class=\"abc\">\n",
      "   Hello ! Good morning. Have a good Day !\n",
      "  </p>\n",
      "  <p id=\"def\">\n",
      "   <a href=\"https://codingninjas.in/\">\n",
      "    Coding Nnjas\n",
      "   </a>\n",
      "  </p>\n",
      "  <p class=\"abc\">\n",
      "   hello\n",
      "  </p>\n",
      " </body>\n",
      "</html>\n"
     ]
    }
   ],
   "source": [
    "print(data.prettify())"
   ]
  },
  {
   "cell_type": "code",
   "execution_count": 5,
   "metadata": {},
   "outputs": [
    {
     "data": {
      "text/plain": [
       "<title>Testing Web Page</title>"
      ]
     },
     "execution_count": 5,
     "metadata": {},
     "output_type": "execute_result"
    }
   ],
   "source": [
    "# data.tag_name to get details for a tag\n",
    "data.title"
   ]
  },
  {
   "cell_type": "code",
   "execution_count": 6,
   "metadata": {},
   "outputs": [
    {
     "data": {
      "text/plain": [
       "<p class=\"abc\">Hello ! Good morning. Have a good Day !</p>"
      ]
     },
     "execution_count": 6,
     "metadata": {},
     "output_type": "execute_result"
    }
   ],
   "source": [
    "data.h1\n",
    "data.p # if multiple, details of first are used"
   ]
  },
  {
   "cell_type": "code",
   "execution_count": 7,
   "metadata": {},
   "outputs": [],
   "source": [
    "data.h2 # won't print anything if a tag is not present"
   ]
  },
  {
   "cell_type": "code",
   "execution_count": 8,
   "metadata": {},
   "outputs": [
    {
     "name": "stdout",
     "output_type": "stream",
     "text": [
      "<title>Testing Web Page</title>\n"
     ]
    }
   ],
   "source": [
    "print(data.title)"
   ]
  },
  {
   "cell_type": "code",
   "execution_count": 9,
   "metadata": {},
   "outputs": [
    {
     "data": {
      "text/plain": [
       "'title'"
      ]
     },
     "execution_count": 9,
     "metadata": {},
     "output_type": "execute_result"
    }
   ],
   "source": [
    "data.title.name # print name of tag"
   ]
  },
  {
   "cell_type": "code",
   "execution_count": 10,
   "metadata": {},
   "outputs": [
    {
     "data": {
      "text/plain": [
       "'Testing Web Page'"
      ]
     },
     "execution_count": 10,
     "metadata": {},
     "output_type": "execute_result"
    }
   ],
   "source": [
    "data.title.string # print contents of the tag"
   ]
  },
  {
   "cell_type": "code",
   "execution_count": 11,
   "metadata": {},
   "outputs": [
    {
     "data": {
      "text/plain": [
       "{'class': ['abc']}"
      ]
     },
     "execution_count": 11,
     "metadata": {},
     "output_type": "execute_result"
    }
   ],
   "source": [
    "data.p.attrs # gets attributes of the tag"
   ]
  },
  {
   "cell_type": "code",
   "execution_count": 12,
   "metadata": {},
   "outputs": [
    {
     "data": {
      "text/plain": [
       "['abc']"
      ]
     },
     "execution_count": 12,
     "metadata": {},
     "output_type": "execute_result"
    }
   ],
   "source": [
    "data.p['class'] # get value of class attribute"
   ]
  },
  {
   "cell_type": "code",
   "execution_count": 13,
   "metadata": {},
   "outputs": [
    {
     "data": {
      "text/plain": [
       "['abc']"
      ]
     },
     "execution_count": 13,
     "metadata": {},
     "output_type": "execute_result"
    }
   ],
   "source": [
    "data.p.get('class') # alternatively.."
   ]
  },
  {
   "cell_type": "code",
   "execution_count": 14,
   "metadata": {},
   "outputs": [
    {
     "data": {
      "text/plain": [
       "'Testing Web PageWeb ScrapingHello ! Good morning. Have a good Day ! Coding Nnjas hello'"
      ]
     },
     "execution_count": 14,
     "metadata": {},
     "output_type": "execute_result"
    }
   ],
   "source": [
    "data.get_text() # Test available on webpage"
   ]
  },
  {
   "cell_type": "code",
   "execution_count": 15,
   "metadata": {},
   "outputs": [
    {
     "data": {
      "text/plain": [
       "<p class=\"abc\">Hello ! Good morning. Have a good Day !</p>"
      ]
     },
     "execution_count": 15,
     "metadata": {},
     "output_type": "execute_result"
    }
   ],
   "source": [
    "data.find('p') # find is used to find something from webpage"
   ]
  },
  {
   "cell_type": "code",
   "execution_count": 16,
   "metadata": {},
   "outputs": [
    {
     "name": "stdout",
     "output_type": "stream",
     "text": [
      "[<p class=\"abc\">Hello ! Good morning. Have a good Day !</p>, <p id=\"def\"><a href=\"https://codingninjas.in/\"> Coding Nnjas </a></p>, <p class=\"abc\">hello</p>]\n"
     ]
    }
   ],
   "source": [
    "li = data.find_all('p') # all occurences of a tag\n",
    "print(li)"
   ]
  },
  {
   "cell_type": "code",
   "execution_count": 17,
   "metadata": {},
   "outputs": [
    {
     "name": "stdout",
     "output_type": "stream",
     "text": [
      "<p class=\"abc\">Hello ! Good morning. Have a good Day !</p>\n",
      "<p id=\"def\"><a href=\"https://codingninjas.in/\"> Coding Nnjas </a></p>\n",
      "<p class=\"abc\">hello</p>\n"
     ]
    }
   ],
   "source": [
    "for i in li:\n",
    "    print(i)"
   ]
  },
  {
   "cell_type": "markdown",
   "metadata": {},
   "source": [
    "### Navigate Tree\n",
    "\n",
    "We can navigate parse tree in following ways/directions:\n",
    "* Going Up\n",
    "* Going Down\n",
    "* Going Sideways\n",
    "* Going back and forth"
   ]
  },
  {
   "cell_type": "code",
   "execution_count": 18,
   "metadata": {},
   "outputs": [
    {
     "data": {
      "text/plain": [
       "[<p class=\"abc\">Hello ! Good morning. Have a good Day !</p>,\n",
       " <p id=\"def\"><a href=\"https://codingninjas.in/\"> Coding Nnjas </a></p>,\n",
       " <a href=\"https://codingninjas.in/\"> Coding Nnjas </a>,\n",
       " <p class=\"abc\">hello</p>]"
      ]
     },
     "execution_count": 18,
     "metadata": {},
     "output_type": "execute_result"
    }
   ],
   "source": [
    "data.find_all(['p', 'a']) #search for each tag present in list"
   ]
  },
  {
   "cell_type": "code",
   "execution_count": 19,
   "metadata": {},
   "outputs": [
    {
     "data": {
      "text/plain": [
       "[<html><head><title>Testing Web Page</title></head><body><h1>Web Scraping</h1><p class=\"abc\">Hello ! Good morning. Have a good Day !</p><p id=\"def\"><a href=\"https://codingninjas.in/\"> Coding Nnjas </a></p><p class=\"abc\">hello</p></body></html>,\n",
       " <head><title>Testing Web Page</title></head>,\n",
       " <title>Testing Web Page</title>,\n",
       " <body><h1>Web Scraping</h1><p class=\"abc\">Hello ! Good morning. Have a good Day !</p><p id=\"def\"><a href=\"https://codingninjas.in/\"> Coding Nnjas </a></p><p class=\"abc\">hello</p></body>,\n",
       " <h1>Web Scraping</h1>,\n",
       " <p class=\"abc\">Hello ! Good morning. Have a good Day !</p>,\n",
       " <p id=\"def\"><a href=\"https://codingninjas.in/\"> Coding Nnjas </a></p>,\n",
       " <a href=\"https://codingninjas.in/\"> Coding Nnjas </a>,\n",
       " <p class=\"abc\">hello</p>]"
      ]
     },
     "execution_count": 19,
     "metadata": {},
     "output_type": "execute_result"
    }
   ],
   "source": [
    "data.find_all(True) # Every tag present in the document"
   ]
  },
  {
   "cell_type": "code",
   "execution_count": 20,
   "metadata": {},
   "outputs": [
    {
     "data": {
      "text/plain": [
       "[<p id=\"def\"><a href=\"https://codingninjas.in/\"> Coding Nnjas </a></p>]"
      ]
     },
     "execution_count": 20,
     "metadata": {},
     "output_type": "execute_result"
    }
   ],
   "source": [
    "data.find_all(id = 'def') # finds all with id = def"
   ]
  },
  {
   "cell_type": "code",
   "execution_count": 21,
   "metadata": {},
   "outputs": [
    {
     "data": {
      "text/plain": [
       "[<p class=\"abc\">Hello ! Good morning. Have a good Day !</p>,\n",
       " <p class=\"abc\">hello</p>]"
      ]
     },
     "execution_count": 21,
     "metadata": {},
     "output_type": "execute_result"
    }
   ],
   "source": [
    "data.find_all(class_ = \"abc\") # finds all with class = abc"
   ]
  },
  {
   "cell_type": "code",
   "execution_count": 22,
   "metadata": {},
   "outputs": [],
   "source": [
    "# for css selector pass value in data.select('')"
   ]
  },
  {
   "cell_type": "code",
   "execution_count": 23,
   "metadata": {},
   "outputs": [
    {
     "name": "stdout",
     "output_type": "stream",
     "text": [
      "<!DOCTYPE html>\n",
      "<html>\n",
      " <head>\n",
      "  <title>\n",
      "   Testing Web Page\n",
      "  </title>\n",
      " </head>\n",
      " <body>\n",
      "  <h1>\n",
      "   Web Scraping\n",
      "  </h1>\n",
      "  <p class=\"abc\">\n",
      "   Hello ! Good morning. Have a good Day !\n",
      "  </p>\n",
      "  <p id=\"def\">\n",
      "   <a href=\"https://codingninjas.in/\">\n",
      "    Coding Nnjas\n",
      "   </a>\n",
      "  </p>\n",
      "  <p class=\"abc\">\n",
      "   hello\n",
      "  </p>\n",
      " </body>\n",
      "</html>\n"
     ]
    }
   ],
   "source": [
    "print(data.prettify())"
   ]
  },
  {
   "cell_type": "code",
   "execution_count": 24,
   "metadata": {},
   "outputs": [
    {
     "data": {
      "text/plain": [
       "<head><title>Testing Web Page</title></head>"
      ]
     },
     "execution_count": 24,
     "metadata": {},
     "output_type": "execute_result"
    }
   ],
   "source": [
    "# Navigation using tag names\n",
    "data.head"
   ]
  },
  {
   "cell_type": "code",
   "execution_count": 25,
   "metadata": {},
   "outputs": [
    {
     "data": {
      "text/plain": [
       "<title>Testing Web Page</title>"
      ]
     },
     "execution_count": 25,
     "metadata": {},
     "output_type": "execute_result"
    }
   ],
   "source": [
    "data.head.title"
   ]
  },
  {
   "cell_type": "code",
   "execution_count": 26,
   "metadata": {},
   "outputs": [
    {
     "data": {
      "text/plain": [
       "'Testing Web Page'"
      ]
     },
     "execution_count": 26,
     "metadata": {},
     "output_type": "execute_result"
    }
   ],
   "source": [
    "data.title.string # fetch string within tag"
   ]
  },
  {
   "cell_type": "code",
   "execution_count": 27,
   "metadata": {},
   "outputs": [
    {
     "name": "stdout",
     "output_type": "stream",
     "text": [
      "Hello ! Good morning. Have a good Day !\n",
      " Coding Nnjas \n",
      "hello\n"
     ]
    }
   ],
   "source": [
    "# string returns result when there is only one child, returns None otherwise\n",
    "\n",
    "\n",
    "for i in data.find_all('p'):\n",
    "    print(i.string)"
   ]
  },
  {
   "cell_type": "code",
   "execution_count": 28,
   "metadata": {},
   "outputs": [
    {
     "name": "stdout",
     "output_type": "stream",
     "text": [
      "['Hello ! Good morning. Have a good Day !']\n",
      "[' Coding Nnjas ']\n",
      "['hello']\n"
     ]
    }
   ],
   "source": [
    "# In case of multiple childs, we can use .strings which returns a generator object\n",
    "\n",
    "for i in data.find_all('p'):\n",
    "    print(list(i.strings))"
   ]
  },
  {
   "cell_type": "code",
   "execution_count": 29,
   "metadata": {},
   "outputs": [
    {
     "name": "stdout",
     "output_type": "stream",
     "text": [
      "['Hello ! Good morning. Have a good Day !']\n",
      "['Coding Nnjas']\n",
      "['hello']\n"
     ]
    }
   ],
   "source": [
    "# we can use .stripped_strings to strip off whitespaces from strings\n",
    "\n",
    "\n",
    "for i in data.find_all('p'):\n",
    "    print(list(i.stripped_strings))"
   ]
  },
  {
   "cell_type": "code",
   "execution_count": 30,
   "metadata": {},
   "outputs": [
    {
     "data": {
      "text/plain": [
       "[<head><title>Testing Web Page</title></head>,\n",
       " <body><h1>Web Scraping</h1><p class=\"abc\">Hello ! Good morning. Have a good Day !</p><p id=\"def\"><a href=\"https://codingninjas.in/\"> Coding Nnjas </a></p><p class=\"abc\">hello</p></body>]"
      ]
     },
     "execution_count": 30,
     "metadata": {},
     "output_type": "execute_result"
    }
   ],
   "source": [
    "# Use .contests for to find all children to a tag\n",
    "\n",
    "data.html.contents"
   ]
  },
  {
   "cell_type": "code",
   "execution_count": 31,
   "metadata": {},
   "outputs": [
    {
     "name": "stdout",
     "output_type": "stream",
     "text": [
      "[<head><title>Testing Web Page</title></head>, <body><h1>Web Scraping</h1><p class=\"abc\">Hello ! Good morning. Have a good Day !</p><p id=\"def\"><a href=\"https://codingninjas.in/\"> Coding Nnjas </a></p><p class=\"abc\">hello</p></body>]\n"
     ]
    },
    {
     "data": {
      "text/plain": [
       "2"
      ]
     },
     "execution_count": 31,
     "metadata": {},
     "output_type": "execute_result"
    }
   ],
   "source": [
    "li = data.html.contents\n",
    "print(li)\n",
    "len(li)"
   ]
  },
  {
   "cell_type": "code",
   "execution_count": 32,
   "metadata": {},
   "outputs": [
    {
     "data": {
      "text/plain": [
       "list_iterator"
      ]
     },
     "execution_count": 32,
     "metadata": {},
     "output_type": "execute_result"
    }
   ],
   "source": [
    "# .children can also be used, but it returns an iterator instead\n",
    "\n",
    "type(data.html.children)"
   ]
  },
  {
   "cell_type": "code",
   "execution_count": 33,
   "metadata": {},
   "outputs": [
    {
     "name": "stdout",
     "output_type": "stream",
     "text": [
      "<head><title>Testing Web Page</title></head>\n",
      "<body><h1>Web Scraping</h1><p class=\"abc\">Hello ! Good morning. Have a good Day !</p><p id=\"def\"><a href=\"https://codingninjas.in/\"> Coding Nnjas </a></p><p class=\"abc\">hello</p></body>\n"
     ]
    }
   ],
   "source": [
    "for i in data.html.children:\n",
    "    print(i)"
   ]
  },
  {
   "cell_type": "code",
   "execution_count": 34,
   "metadata": {},
   "outputs": [
    {
     "name": "stdout",
     "output_type": "stream",
     "text": [
      "13\n",
      "<head><title>Testing Web Page</title></head>\n",
      "\n",
      "<title>Testing Web Page</title>\n",
      "\n",
      "Testing Web Page\n",
      "\n",
      "<body><h1>Web Scraping</h1><p class=\"abc\">Hello ! Good morning. Have a good Day !</p><p id=\"def\"><a href=\"https://codingninjas.in/\"> Coding Nnjas </a></p><p class=\"abc\">hello</p></body>\n",
      "\n",
      "<h1>Web Scraping</h1>\n",
      "\n",
      "Web Scraping\n",
      "\n",
      "<p class=\"abc\">Hello ! Good morning. Have a good Day !</p>\n",
      "\n",
      "Hello ! Good morning. Have a good Day !\n",
      "\n",
      "<p id=\"def\"><a href=\"https://codingninjas.in/\"> Coding Nnjas </a></p>\n",
      "\n",
      "<a href=\"https://codingninjas.in/\"> Coding Nnjas </a>\n",
      "\n",
      " Coding Nnjas \n",
      "\n",
      "<p class=\"abc\">hello</p>\n",
      "\n",
      "hello\n",
      "\n"
     ]
    }
   ],
   "source": [
    "# .descendants return a generator to all the descendants to the tag\n",
    "\n",
    "desc = list(data.html.descendants)\n",
    "\n",
    "print(len(desc))\n",
    "\n",
    "for i in desc:\n",
    "    print(i)\n",
    "    print()"
   ]
  },
  {
   "cell_type": "markdown",
   "metadata": {},
   "source": [
    "### For going upwards, some tags are:\n",
    ".parent, .parents\n",
    "\n",
    "### For going sideways:\n",
    ".next_sibling and .previous_sibling\n",
    ".next_siblings and .previous_siblings\n",
    "\n",
    "### Few other directional functions are:\n",
    "\n",
    ".next_element and .previous_elements\n",
    ".next_element and .previous_elements"
   ]
  },
  {
   "cell_type": "markdown",
   "metadata": {},
   "source": [
    "## Scrapping web page!"
   ]
  },
  {
   "cell_type": "code",
   "execution_count": 35,
   "metadata": {},
   "outputs": [
    {
     "name": "stdout",
     "output_type": "stream",
     "text": [
      "<Response [200]>\n",
      "{'Date': 'Tue, 03 Dec 2019 18:06:05 GMT', 'Server': 'Apache', 'Last-Modified': 'Thu, 03 Dec 1992 08:37:20 GMT', 'ETag': '\"40521e06-8a9-291e721905000\"', 'Accept-Ranges': 'bytes', 'Content-Length': '2217', 'Connection': 'close', 'Content-Type': 'text/html'}\n"
     ]
    }
   ],
   "source": [
    "response = requests.get(\"http://info.cern.ch/hypertext/WWW/TheProject.html\")\n",
    "print(response)\n",
    "print(response.headers)"
   ]
  },
  {
   "cell_type": "code",
   "execution_count": 36,
   "metadata": {},
   "outputs": [],
   "source": [
    "html_data = response.text"
   ]
  },
  {
   "cell_type": "code",
   "execution_count": 37,
   "metadata": {},
   "outputs": [
    {
     "name": "stdout",
     "output_type": "stream",
     "text": [
      "<header>\n",
      " <title>\n",
      "  The World Wide Web project\n",
      " </title>\n",
      " <nextid n=\"55\"/>\n",
      "</header>\n",
      "<body>\n",
      " <h1>\n",
      "  World Wide Web\n",
      " </h1>\n",
      " The WorldWideWeb (W3) is a wide-area\n",
      " <a href=\"WhatIs.html\" name=\"0\">\n",
      "  hypermedia\n",
      " </a>\n",
      " information retrieval\n",
      "initiative aiming to give universal\n",
      "access to a large universe of documents.\n",
      " <p>\n",
      "  Everything there is online about\n",
      "W3 is linked directly or indirectly\n",
      "to this document, including an\n",
      "  <a href=\"Summary.html\" name=\"24\">\n",
      "   executive\n",
      "summary\n",
      "  </a>\n",
      "  of the project,\n",
      "  <a href=\"Administration/Mailing/Overview.html\" name=\"29\">\n",
      "   Mailing lists\n",
      "  </a>\n",
      "  ,\n",
      "  <a href=\"Policy.html\" name=\"30\">\n",
      "   Policy\n",
      "  </a>\n",
      "  , November's\n",
      "  <a href=\"News/9211.html\" name=\"34\">\n",
      "   W3  news\n",
      "  </a>\n",
      "  ,\n",
      "  <a href=\"FAQ/List.html\" name=\"41\">\n",
      "   Frequently Asked Questions\n",
      "  </a>\n",
      "  .\n",
      "  <dl>\n",
      "   <dt>\n",
      "    <a href=\"../DataSources/Top.html\" name=\"44\">\n",
      "     What's out there?\n",
      "    </a>\n",
      "    <dd>\n",
      "     Pointers to the\n",
      "world's online information,\n",
      "     <a href=\"../DataSources/bySubject/Overview.html\" name=\"45\">\n",
      "      subjects\n",
      "     </a>\n",
      "     ,\n",
      "     <a href=\"../DataSources/WWW/Servers.html\" name=\"z54\">\n",
      "      W3 servers\n",
      "     </a>\n",
      "     , etc.\n",
      "     <dt>\n",
      "      <a href=\"Help.html\" name=\"46\">\n",
      "       Help\n",
      "      </a>\n",
      "      <dd>\n",
      "       on the browser you are using\n",
      "       <dt>\n",
      "        <a href=\"Status.html\" name=\"13\">\n",
      "         Software Products\n",
      "        </a>\n",
      "        <dd>\n",
      "         A list of W3 project\n",
      "components and their current state.\n",
      "(e.g.\n",
      "         <a href=\"LineMode/Browser.html\" name=\"27\">\n",
      "          Line Mode\n",
      "         </a>\n",
      "         ,X11\n",
      "         <a href=\"Status.html#35\" name=\"35\">\n",
      "          Viola\n",
      "         </a>\n",
      "         ,\n",
      "         <a href=\"NeXT/WorldWideWeb.html\" name=\"26\">\n",
      "          NeXTStep\n",
      "         </a>\n",
      "         ,\n",
      "         <a href=\"Daemon/Overview.html\" name=\"25\">\n",
      "          Servers\n",
      "         </a>\n",
      "         ,\n",
      "         <a href=\"Tools/Overview.html\" name=\"51\">\n",
      "          Tools\n",
      "         </a>\n",
      "         ,\n",
      "         <a href=\"MailRobot/Overview.html\" name=\"53\">\n",
      "          Mail robot\n",
      "         </a>\n",
      "         ,\n",
      "         <a href=\"Status.html#57\" name=\"52\">\n",
      "          Library\n",
      "         </a>\n",
      "         )\n",
      "         <dt>\n",
      "          <a href=\"Technical.html\" name=\"47\">\n",
      "           Technical\n",
      "          </a>\n",
      "          <dd>\n",
      "           Details of protocols, formats,\n",
      "program internals etc\n",
      "           <dt>\n",
      "            <a href=\"Bibliography.html\" name=\"40\">\n",
      "             Bibliography\n",
      "            </a>\n",
      "            <dd>\n",
      "             Paper documentation\n",
      "on  W3 and references.\n",
      "             <dt>\n",
      "              <a href=\"People.html\" name=\"14\">\n",
      "               People\n",
      "              </a>\n",
      "              <dd>\n",
      "               A list of some people involved\n",
      "in the project.\n",
      "               <dt>\n",
      "                <a href=\"History.html\" name=\"15\">\n",
      "                 History\n",
      "                </a>\n",
      "                <dd>\n",
      "                 A summary of the history\n",
      "of the project.\n",
      "                 <dt>\n",
      "                  <a href=\"Helping.html\" name=\"37\">\n",
      "                   How can I help\n",
      "                  </a>\n",
      "                  ?\n",
      "                  <dd>\n",
      "                   If you would like\n",
      "to support the web..\n",
      "                   <dt>\n",
      "                    <a href=\"../README.html\" name=\"48\">\n",
      "                     Getting code\n",
      "                    </a>\n",
      "                    <dd>\n",
      "                     Getting the code by\n",
      "                     <a href=\"LineMode/Defaults/Distribution.html\" name=\"49\">\n",
      "                      anonymous FTP\n",
      "                     </a>\n",
      "                     , etc.\n",
      "                    </dd>\n",
      "                   </dt>\n",
      "                  </dd>\n",
      "                 </dt>\n",
      "                </dd>\n",
      "               </dt>\n",
      "              </dd>\n",
      "             </dt>\n",
      "            </dd>\n",
      "           </dt>\n",
      "          </dd>\n",
      "         </dt>\n",
      "        </dd>\n",
      "       </dt>\n",
      "      </dd>\n",
      "     </dt>\n",
      "    </dd>\n",
      "   </dt>\n",
      "  </dl>\n",
      " </p>\n",
      "</body>\n",
      "\n"
     ]
    }
   ],
   "source": [
    "data = BeautifulSoup(html_data, \"html.parser\")\n",
    "print(data.prettify())"
   ]
  },
  {
   "cell_type": "code",
   "execution_count": 38,
   "metadata": {},
   "outputs": [
    {
     "data": {
      "text/plain": [
       "<h1>World Wide Web</h1>"
      ]
     },
     "execution_count": 38,
     "metadata": {},
     "output_type": "execute_result"
    }
   ],
   "source": [
    "# Printing heading 1\n",
    "\n",
    "data.h1"
   ]
  },
  {
   "cell_type": "code",
   "execution_count": 39,
   "metadata": {},
   "outputs": [
    {
     "data": {
      "text/plain": [
       "'World Wide Web'"
      ]
     },
     "execution_count": 39,
     "metadata": {},
     "output_type": "execute_result"
    }
   ],
   "source": [
    "data.h1.string"
   ]
  },
  {
   "cell_type": "code",
   "execution_count": 40,
   "metadata": {},
   "outputs": [
    {
     "data": {
      "text/plain": [
       "<title>The World Wide Web project</title>"
      ]
     },
     "execution_count": 40,
     "metadata": {},
     "output_type": "execute_result"
    }
   ],
   "source": [
    "# Printing title\n",
    "\n",
    "data.title"
   ]
  },
  {
   "cell_type": "code",
   "execution_count": 41,
   "metadata": {},
   "outputs": [
    {
     "data": {
      "text/plain": [
       "'The World Wide Web project'"
      ]
     },
     "execution_count": 41,
     "metadata": {},
     "output_type": "execute_result"
    }
   ],
   "source": [
    "data.title.string"
   ]
  },
  {
   "cell_type": "code",
   "execution_count": 42,
   "metadata": {},
   "outputs": [
    {
     "name": "stdout",
     "output_type": "stream",
     "text": [
      "\n",
      "The World Wide Web project\n",
      "\n",
      "\n",
      "\n",
      "World Wide WebThe WorldWideWeb (W3) is a wide-area\n",
      "hypermedia information retrieval\n",
      "initiative aiming to give universal\n",
      "access to a large universe of documents.\n",
      "Everything there is online about\n",
      "W3 is linked directly or indirectly\n",
      "to this document, including an executive\n",
      "summary of the project, Mailing lists\n",
      ", Policy , November's  W3  news ,\n",
      "Frequently Asked Questions .\n",
      "\n",
      "What's out there?\n",
      " Pointers to the\n",
      "world's online information, subjects\n",
      ", W3 servers, etc.\n",
      "Help\n",
      " on the browser you are using\n",
      "Software Products\n",
      " A list of W3 project\n",
      "components and their current state.\n",
      "(e.g. Line Mode ,X11 Viola ,  NeXTStep\n",
      ", Servers , Tools , Mail robot ,\n",
      "Library )\n",
      "Technical\n",
      " Details of protocols, formats,\n",
      "program internals etc\n",
      "Bibliography\n",
      " Paper documentation\n",
      "on  W3 and references.\n",
      "People\n",
      " A list of some people involved\n",
      "in the project.\n",
      "History\n",
      " A summary of the history\n",
      "of the project.\n",
      "How can I help ?\n",
      " If you would like\n",
      "to support the web..\n",
      "Getting code\n",
      " Getting the code by\n",
      "anonymous FTP , etc.\n",
      "\n",
      "\n",
      "\n"
     ]
    }
   ],
   "source": [
    "# Get complete text available on webpage\n",
    "\n",
    "print(data.get_text())"
   ]
  },
  {
   "cell_type": "code",
   "execution_count": 43,
   "metadata": {},
   "outputs": [
    {
     "data": {
      "text/plain": [
       "'WhatIs.html'"
      ]
     },
     "execution_count": 43,
     "metadata": {},
     "output_type": "execute_result"
    }
   ],
   "source": [
    "# Value of first hyperlink on webpage\n",
    "\n",
    "data.a['href']"
   ]
  },
  {
   "cell_type": "code",
   "execution_count": 44,
   "metadata": {},
   "outputs": [
    {
     "data": {
      "text/plain": [
       "[<a href=\"WhatIs.html\" name=\"0\">\n",
       " hypermedia</a>, <a href=\"Summary.html\" name=\"24\">executive\n",
       " summary</a>, <a href=\"Administration/Mailing/Overview.html\" name=\"29\">Mailing lists</a>, <a href=\"Policy.html\" name=\"30\">Policy</a>, <a href=\"News/9211.html\" name=\"34\">W3  news</a>, <a href=\"FAQ/List.html\" name=\"41\">Frequently Asked Questions</a>, <a href=\"../DataSources/Top.html\" name=\"44\">What's out there?</a>, <a href=\"../DataSources/bySubject/Overview.html\" name=\"45\"> subjects</a>, <a href=\"../DataSources/WWW/Servers.html\" name=\"z54\">W3 servers</a>, <a href=\"Help.html\" name=\"46\">Help</a>, <a href=\"Status.html\" name=\"13\">Software Products</a>, <a href=\"LineMode/Browser.html\" name=\"27\">Line Mode</a>, <a href=\"Status.html#35\" name=\"35\">Viola</a>, <a href=\"NeXT/WorldWideWeb.html\" name=\"26\">NeXTStep</a>, <a href=\"Daemon/Overview.html\" name=\"25\">Servers</a>, <a href=\"Tools/Overview.html\" name=\"51\">Tools</a>, <a href=\"MailRobot/Overview.html\" name=\"53\"> Mail robot</a>, <a href=\"Status.html#57\" name=\"52\">\n",
       " Library</a>, <a href=\"Technical.html\" name=\"47\">Technical</a>, <a href=\"Bibliography.html\" name=\"40\">Bibliography</a>, <a href=\"People.html\" name=\"14\">People</a>, <a href=\"History.html\" name=\"15\">History</a>, <a href=\"Helping.html\" name=\"37\">How can I help</a>, <a href=\"../README.html\" name=\"48\">Getting code</a>, <a href=\"LineMode/Defaults/Distribution.html\" name=\"49\">\n",
       " anonymous FTP</a>]"
      ]
     },
     "execution_count": 44,
     "metadata": {},
     "output_type": "execute_result"
    }
   ],
   "source": [
    "# All links\n",
    "\n",
    "data.find_all('a')"
   ]
  },
  {
   "cell_type": "code",
   "execution_count": 45,
   "metadata": {},
   "outputs": [
    {
     "name": "stdout",
     "output_type": "stream",
     "text": [
      "\n",
      "hypermedia WhatIs.html\n",
      "\n",
      "executive\n",
      "summary Summary.html\n",
      "\n",
      "Mailing lists Administration/Mailing/Overview.html\n",
      "\n",
      "Policy Policy.html\n",
      "\n",
      "W3  news News/9211.html\n",
      "\n",
      "Frequently Asked Questions FAQ/List.html\n",
      "\n",
      "What's out there? ../DataSources/Top.html\n",
      "\n",
      " subjects ../DataSources/bySubject/Overview.html\n",
      "\n",
      "W3 servers ../DataSources/WWW/Servers.html\n",
      "\n",
      "Help Help.html\n",
      "\n",
      "Software Products Status.html\n",
      "\n",
      "Line Mode LineMode/Browser.html\n",
      "\n",
      "Viola Status.html#35\n",
      "\n",
      "NeXTStep NeXT/WorldWideWeb.html\n",
      "\n",
      "Servers Daemon/Overview.html\n",
      "\n",
      "Tools Tools/Overview.html\n",
      "\n",
      " Mail robot MailRobot/Overview.html\n",
      "\n",
      "\n",
      "Library Status.html#57\n",
      "\n",
      "Technical Technical.html\n",
      "\n",
      "Bibliography Bibliography.html\n",
      "\n",
      "People People.html\n",
      "\n",
      "History History.html\n",
      "\n",
      "How can I help Helping.html\n",
      "\n",
      "Getting code ../README.html\n",
      "\n",
      "\n",
      "anonymous FTP LineMode/Defaults/Distribution.html\n",
      "\n"
     ]
    }
   ],
   "source": [
    "li = data.find_all('a')\n",
    "\n",
    "for i in li:\n",
    "    print(i.string, i['href'])\n",
    "    print()"
   ]
  },
  {
   "cell_type": "code",
   "execution_count": 46,
   "metadata": {},
   "outputs": [
    {
     "name": "stdout",
     "output_type": "stream",
     "text": [
      "What's out there? ../DataSources/Top.html\n",
      "\n",
      " subjects ../DataSources/bySubject/Overview.html\n",
      "\n",
      "W3 servers ../DataSources/WWW/Servers.html\n",
      "\n",
      "Help Help.html\n",
      "\n",
      "Software Products Status.html\n",
      "\n",
      "Line Mode LineMode/Browser.html\n",
      "\n",
      "Viola Status.html#35\n",
      "\n",
      "NeXTStep NeXT/WorldWideWeb.html\n",
      "\n",
      "Servers Daemon/Overview.html\n",
      "\n",
      "Tools Tools/Overview.html\n",
      "\n",
      " Mail robot MailRobot/Overview.html\n",
      "\n",
      "\n",
      "Library Status.html#57\n",
      "\n",
      "Technical Technical.html\n",
      "\n",
      "Bibliography Bibliography.html\n",
      "\n",
      "People People.html\n",
      "\n",
      "History History.html\n",
      "\n",
      "How can I help Helping.html\n",
      "\n",
      "Getting code ../README.html\n",
      "\n",
      "\n",
      "anonymous FTP LineMode/Defaults/Distribution.html\n",
      "\n"
     ]
    }
   ],
   "source": [
    "# links in a particular part say 'dl'\n",
    "\n",
    "li_2 = data.dl.find_all('a')\n",
    "\n",
    "for i in li_2:\n",
    "    print(i.string, i['href'])\n",
    "    print()"
   ]
  },
  {
   "cell_type": "code",
   "execution_count": 47,
   "metadata": {},
   "outputs": [
    {
     "data": {
      "text/plain": [
       "<Response [200]>"
      ]
     },
     "execution_count": 47,
     "metadata": {},
     "output_type": "execute_result"
    }
   ],
   "source": [
    "response = requests.get('http://books.toscrape.com/')\n",
    "response"
   ]
  },
  {
   "cell_type": "code",
   "execution_count": 48,
   "metadata": {},
   "outputs": [
    {
     "data": {
      "text/plain": [
       "{'Server': 'nginx/1.12.1', 'Date': 'Tue, 03 Dec 2019 18:06:07 GMT', 'Content-Type': 'text/html', 'Transfer-Encoding': 'chunked', 'Connection': 'keep-alive', 'Last-Modified': 'Wed, 29 Jun 2016 21:39:03 GMT', 'X-Upstream': 'toscrape-books-master_web', 'Content-Encoding': 'gzip'}"
      ]
     },
     "execution_count": 48,
     "metadata": {},
     "output_type": "execute_result"
    }
   ],
   "source": [
    "response.headers"
   ]
  },
  {
   "cell_type": "code",
   "execution_count": 49,
   "metadata": {},
   "outputs": [],
   "source": [
    "html_data = response.text"
   ]
  },
  {
   "cell_type": "code",
   "execution_count": 50,
   "metadata": {},
   "outputs": [
    {
     "name": "stdout",
     "output_type": "stream",
     "text": [
      "<!DOCTYPE html>\n",
      "<!--[if lt IE 7]>      <html lang=\"en-us\" class=\"no-js lt-ie9 lt-ie8 lt-ie7\"> <![endif]-->\n",
      "<!--[if IE 7]>         <html lang=\"en-us\" class=\"no-js lt-ie9 lt-ie8\"> <![endif]-->\n",
      "<!--[if IE 8]>         <html lang=\"en-us\" class=\"no-js lt-ie9\"> <![endif]-->\n",
      "<!--[if gt IE 8]><!-->\n",
      "<html class=\"no-js\" lang=\"en-us\">\n",
      " <!--<![endif]-->\n",
      " <head>\n",
      "  <title>\n",
      "   All products | Books to Scrape - Sandbox\n",
      "  </title>\n",
      "  <meta content=\"text/html; charset=utf-8\" http-equiv=\"content-type\"/>\n",
      "  <meta content=\"24th Jun 2016 09:29\" name=\"created\"/>\n",
      "  <meta content=\"\" name=\"description\"/>\n",
      "  <meta content=\"width=device-width\" name=\"viewport\"/>\n",
      "  <meta content=\"NOARCHIVE,NOCACHE\" name=\"robots\"/>\n",
      "  <!-- Le HTML5 shim, for IE6-8 support of HTML elements -->\n",
      "  <!--[if lt IE 9]>\n",
      "        <script src=\"//html5shim.googlecode.com/svn/trunk/html5.js\"></script>\n",
      "        <![endif]-->\n",
      "  <link href=\"static/oscar/favicon.ico\" rel=\"shortcut icon\"/>\n",
      "  <link href=\"static/oscar/css/styles.css\" rel=\"stylesheet\" type=\"text/css\"/>\n",
      "  <link href=\"static/oscar/js/bootstrap-datetimepicker/bootstrap-datetimepicker.css\" rel=\"stylesheet\"/>\n",
      "  <link href=\"static/oscar/css/datetimepicker.css\" rel=\"stylesheet\" type=\"text/css\"/>\n",
      " </head>\n",
      " <body class=\"default\" id=\"default\">\n",
      "  <header class=\"header container-fluid\">\n",
      "   <div class=\"page_inner\">\n",
      "    <div class=\"row\">\n",
      "     <div class=\"col-sm-8 h1\">\n",
      "      <a href=\"index.html\">\n",
      "       Books to Scrape\n",
      "      </a>\n",
      "      <small>\n",
      "       We love being scraped!\n",
      "      </small>\n",
      "     </div>\n",
      "    </div>\n",
      "   </div>\n",
      "  </header>\n",
      "  <div class=\"container-fluid page\">\n",
      "   <div class=\"page_inner\">\n",
      "    <ul class=\"breadcrumb\">\n",
      "     <li>\n",
      "      <a href=\"index.html\">\n",
      "       Home\n",
      "      </a>\n",
      "     </li>\n",
      "     <li class=\"active\">\n",
      "      All products\n",
      "     </li>\n",
      "    </ul>\n",
      "    <div class=\"row\">\n",
      "     <aside class=\"sidebar col-sm-4 col-md-3\">\n",
      "      <div id=\"promotions_left\">\n",
      "      </div>\n",
      "      <div class=\"side_categories\">\n",
      "       <ul class=\"nav nav-list\">\n",
      "        <li>\n",
      "         <a href=\"catalogue/category/books_1/index.html\">\n",
      "          Books\n",
      "         </a>\n",
      "         <ul>\n",
      "          <li>\n",
      "           <a href=\"catalogue/category/books/travel_2/index.html\">\n",
      "            Travel\n",
      "           </a>\n",
      "          </li>\n",
      "          <li>\n",
      "           <a href=\"catalogue/category/books/mystery_3/index.html\">\n",
      "            Mystery\n",
      "           </a>\n",
      "          </li>\n",
      "          <li>\n",
      "           <a href=\"catalogue/category/books/historical-fiction_4/index.html\">\n",
      "            Historical Fiction\n",
      "           </a>\n",
      "          </li>\n",
      "          <li>\n",
      "           <a href=\"catalogue/category/books/sequential-art_5/index.html\">\n",
      "            Sequential Art\n",
      "           </a>\n",
      "          </li>\n",
      "          <li>\n",
      "           <a href=\"catalogue/category/books/classics_6/index.html\">\n",
      "            Classics\n",
      "           </a>\n",
      "          </li>\n",
      "          <li>\n",
      "           <a href=\"catalogue/category/books/philosophy_7/index.html\">\n",
      "            Philosophy\n",
      "           </a>\n",
      "          </li>\n",
      "          <li>\n",
      "           <a href=\"catalogue/category/books/romance_8/index.html\">\n",
      "            Romance\n",
      "           </a>\n",
      "          </li>\n",
      "          <li>\n",
      "           <a href=\"catalogue/category/books/womens-fiction_9/index.html\">\n",
      "            Womens Fiction\n",
      "           </a>\n",
      "          </li>\n",
      "          <li>\n",
      "           <a href=\"catalogue/category/books/fiction_10/index.html\">\n",
      "            Fiction\n",
      "           </a>\n",
      "          </li>\n",
      "          <li>\n",
      "           <a href=\"catalogue/category/books/childrens_11/index.html\">\n",
      "            Childrens\n",
      "           </a>\n",
      "          </li>\n",
      "          <li>\n",
      "           <a href=\"catalogue/category/books/religion_12/index.html\">\n",
      "            Religion\n",
      "           </a>\n",
      "          </li>\n",
      "          <li>\n",
      "           <a href=\"catalogue/category/books/nonfiction_13/index.html\">\n",
      "            Nonfiction\n",
      "           </a>\n",
      "          </li>\n",
      "          <li>\n",
      "           <a href=\"catalogue/category/books/music_14/index.html\">\n",
      "            Music\n",
      "           </a>\n",
      "          </li>\n",
      "          <li>\n",
      "           <a href=\"catalogue/category/books/default_15/index.html\">\n",
      "            Default\n",
      "           </a>\n",
      "          </li>\n",
      "          <li>\n",
      "           <a href=\"catalogue/category/books/science-fiction_16/index.html\">\n",
      "            Science Fiction\n",
      "           </a>\n",
      "          </li>\n",
      "          <li>\n",
      "           <a href=\"catalogue/category/books/sports-and-games_17/index.html\">\n",
      "            Sports and Games\n",
      "           </a>\n",
      "          </li>\n",
      "          <li>\n",
      "           <a href=\"catalogue/category/books/add-a-comment_18/index.html\">\n",
      "            Add a comment\n",
      "           </a>\n",
      "          </li>\n",
      "          <li>\n",
      "           <a href=\"catalogue/category/books/fantasy_19/index.html\">\n",
      "            Fantasy\n",
      "           </a>\n",
      "          </li>\n",
      "          <li>\n",
      "           <a href=\"catalogue/category/books/new-adult_20/index.html\">\n",
      "            New Adult\n",
      "           </a>\n",
      "          </li>\n",
      "          <li>\n",
      "           <a href=\"catalogue/category/books/young-adult_21/index.html\">\n",
      "            Young Adult\n",
      "           </a>\n",
      "          </li>\n",
      "          <li>\n",
      "           <a href=\"catalogue/category/books/science_22/index.html\">\n",
      "            Science\n",
      "           </a>\n",
      "          </li>\n",
      "          <li>\n",
      "           <a href=\"catalogue/category/books/poetry_23/index.html\">\n",
      "            Poetry\n",
      "           </a>\n",
      "          </li>\n",
      "          <li>\n",
      "           <a href=\"catalogue/category/books/paranormal_24/index.html\">\n",
      "            Paranormal\n",
      "           </a>\n",
      "          </li>\n",
      "          <li>\n",
      "           <a href=\"catalogue/category/books/art_25/index.html\">\n",
      "            Art\n",
      "           </a>\n",
      "          </li>\n",
      "          <li>\n",
      "           <a href=\"catalogue/category/books/psychology_26/index.html\">\n",
      "            Psychology\n",
      "           </a>\n",
      "          </li>\n",
      "          <li>\n",
      "           <a href=\"catalogue/category/books/autobiography_27/index.html\">\n",
      "            Autobiography\n",
      "           </a>\n",
      "          </li>\n",
      "          <li>\n",
      "           <a href=\"catalogue/category/books/parenting_28/index.html\">\n",
      "            Parenting\n",
      "           </a>\n",
      "          </li>\n",
      "          <li>\n",
      "           <a href=\"catalogue/category/books/adult-fiction_29/index.html\">\n",
      "            Adult Fiction\n",
      "           </a>\n",
      "          </li>\n",
      "          <li>\n",
      "           <a href=\"catalogue/category/books/humor_30/index.html\">\n",
      "            Humor\n",
      "           </a>\n",
      "          </li>\n",
      "          <li>\n",
      "           <a href=\"catalogue/category/books/horror_31/index.html\">\n",
      "            Horror\n",
      "           </a>\n",
      "          </li>\n",
      "          <li>\n",
      "           <a href=\"catalogue/category/books/history_32/index.html\">\n",
      "            History\n",
      "           </a>\n",
      "          </li>\n",
      "          <li>\n",
      "           <a href=\"catalogue/category/books/food-and-drink_33/index.html\">\n",
      "            Food and Drink\n",
      "           </a>\n",
      "          </li>\n",
      "          <li>\n",
      "           <a href=\"catalogue/category/books/christian-fiction_34/index.html\">\n",
      "            Christian Fiction\n",
      "           </a>\n",
      "          </li>\n",
      "          <li>\n",
      "           <a href=\"catalogue/category/books/business_35/index.html\">\n",
      "            Business\n",
      "           </a>\n",
      "          </li>\n",
      "          <li>\n",
      "           <a href=\"catalogue/category/books/biography_36/index.html\">\n",
      "            Biography\n",
      "           </a>\n",
      "          </li>\n",
      "          <li>\n",
      "           <a href=\"catalogue/category/books/thriller_37/index.html\">\n",
      "            Thriller\n",
      "           </a>\n",
      "          </li>\n",
      "          <li>\n",
      "           <a href=\"catalogue/category/books/contemporary_38/index.html\">\n",
      "            Contemporary\n",
      "           </a>\n",
      "          </li>\n",
      "          <li>\n",
      "           <a href=\"catalogue/category/books/spirituality_39/index.html\">\n",
      "            Spirituality\n",
      "           </a>\n",
      "          </li>\n",
      "          <li>\n",
      "           <a href=\"catalogue/category/books/academic_40/index.html\">\n",
      "            Academic\n",
      "           </a>\n",
      "          </li>\n",
      "          <li>\n",
      "           <a href=\"catalogue/category/books/self-help_41/index.html\">\n",
      "            Self Help\n",
      "           </a>\n",
      "          </li>\n",
      "          <li>\n",
      "           <a href=\"catalogue/category/books/historical_42/index.html\">\n",
      "            Historical\n",
      "           </a>\n",
      "          </li>\n",
      "          <li>\n",
      "           <a href=\"catalogue/category/books/christian_43/index.html\">\n",
      "            Christian\n",
      "           </a>\n",
      "          </li>\n",
      "          <li>\n",
      "           <a href=\"catalogue/category/books/suspense_44/index.html\">\n",
      "            Suspense\n",
      "           </a>\n",
      "          </li>\n",
      "          <li>\n",
      "           <a href=\"catalogue/category/books/short-stories_45/index.html\">\n",
      "            Short Stories\n",
      "           </a>\n",
      "          </li>\n",
      "          <li>\n",
      "           <a href=\"catalogue/category/books/novels_46/index.html\">\n",
      "            Novels\n",
      "           </a>\n",
      "          </li>\n",
      "          <li>\n",
      "           <a href=\"catalogue/category/books/health_47/index.html\">\n",
      "            Health\n",
      "           </a>\n",
      "          </li>\n",
      "          <li>\n",
      "           <a href=\"catalogue/category/books/politics_48/index.html\">\n",
      "            Politics\n",
      "           </a>\n",
      "          </li>\n",
      "          <li>\n",
      "           <a href=\"catalogue/category/books/cultural_49/index.html\">\n",
      "            Cultural\n",
      "           </a>\n",
      "          </li>\n",
      "          <li>\n",
      "           <a href=\"catalogue/category/books/erotica_50/index.html\">\n",
      "            Erotica\n",
      "           </a>\n",
      "          </li>\n",
      "          <li>\n",
      "           <a href=\"catalogue/category/books/crime_51/index.html\">\n",
      "            Crime\n",
      "           </a>\n",
      "          </li>\n",
      "         </ul>\n",
      "        </li>\n",
      "       </ul>\n",
      "      </div>\n",
      "     </aside>\n",
      "     <div class=\"col-sm-8 col-md-9\">\n",
      "      <div class=\"page-header action\">\n",
      "       <h1>\n",
      "        All products\n",
      "       </h1>\n",
      "      </div>\n",
      "      <div id=\"messages\">\n",
      "      </div>\n",
      "      <div id=\"promotions\">\n",
      "      </div>\n",
      "      <form class=\"form-horizontal\" method=\"get\">\n",
      "       <div style=\"display:none\">\n",
      "       </div>\n",
      "       <strong>\n",
      "        1000\n",
      "       </strong>\n",
      "       results - showing\n",
      "       <strong>\n",
      "        1\n",
      "       </strong>\n",
      "       to\n",
      "       <strong>\n",
      "        20\n",
      "       </strong>\n",
      "       .\n",
      "      </form>\n",
      "      <section>\n",
      "       <div class=\"alert alert-warning\" role=\"alert\">\n",
      "        <strong>\n",
      "         Warning!\n",
      "        </strong>\n",
      "        This is a demo website for web scraping purposes. Prices and ratings here were randomly assigned and have no real meaning.\n",
      "       </div>\n",
      "       <div>\n",
      "        <ol class=\"row\">\n",
      "         <li class=\"col-xs-6 col-sm-4 col-md-3 col-lg-3\">\n",
      "          <article class=\"product_pod\">\n",
      "           <div class=\"image_container\">\n",
      "            <a href=\"catalogue/a-light-in-the-attic_1000/index.html\">\n",
      "             <img alt=\"A Light in the Attic\" class=\"thumbnail\" src=\"media/cache/2c/da/2cdad67c44b002e7ead0cc35693c0e8b.jpg\"/>\n",
      "            </a>\n",
      "           </div>\n",
      "           <p class=\"star-rating Three\">\n",
      "            <i class=\"icon-star\">\n",
      "            </i>\n",
      "            <i class=\"icon-star\">\n",
      "            </i>\n",
      "            <i class=\"icon-star\">\n",
      "            </i>\n",
      "            <i class=\"icon-star\">\n",
      "            </i>\n",
      "            <i class=\"icon-star\">\n",
      "            </i>\n",
      "           </p>\n",
      "           <h3>\n",
      "            <a href=\"catalogue/a-light-in-the-attic_1000/index.html\" title=\"A Light in the Attic\">\n",
      "             A Light in the ...\n",
      "            </a>\n",
      "           </h3>\n",
      "           <div class=\"product_price\">\n",
      "            <p class=\"price_color\">\n",
      "             Â£51.77\n",
      "            </p>\n",
      "            <p class=\"instock availability\">\n",
      "             <i class=\"icon-ok\">\n",
      "             </i>\n",
      "             In stock\n",
      "            </p>\n",
      "            <form>\n",
      "             <button class=\"btn btn-primary btn-block\" data-loading-text=\"Adding...\" type=\"submit\">\n",
      "              Add to basket\n",
      "             </button>\n",
      "            </form>\n",
      "           </div>\n",
      "          </article>\n",
      "         </li>\n",
      "         <li class=\"col-xs-6 col-sm-4 col-md-3 col-lg-3\">\n",
      "          <article class=\"product_pod\">\n",
      "           <div class=\"image_container\">\n",
      "            <a href=\"catalogue/tipping-the-velvet_999/index.html\">\n",
      "             <img alt=\"Tipping the Velvet\" class=\"thumbnail\" src=\"media/cache/26/0c/260c6ae16bce31c8f8c95daddd9f4a1c.jpg\"/>\n",
      "            </a>\n",
      "           </div>\n",
      "           <p class=\"star-rating One\">\n",
      "            <i class=\"icon-star\">\n",
      "            </i>\n",
      "            <i class=\"icon-star\">\n",
      "            </i>\n",
      "            <i class=\"icon-star\">\n",
      "            </i>\n",
      "            <i class=\"icon-star\">\n",
      "            </i>\n",
      "            <i class=\"icon-star\">\n",
      "            </i>\n",
      "           </p>\n",
      "           <h3>\n",
      "            <a href=\"catalogue/tipping-the-velvet_999/index.html\" title=\"Tipping the Velvet\">\n",
      "             Tipping the Velvet\n",
      "            </a>\n",
      "           </h3>\n",
      "           <div class=\"product_price\">\n",
      "            <p class=\"price_color\">\n",
      "             Â£53.74\n",
      "            </p>\n",
      "            <p class=\"instock availability\">\n",
      "             <i class=\"icon-ok\">\n",
      "             </i>\n",
      "             In stock\n",
      "            </p>\n",
      "            <form>\n",
      "             <button class=\"btn btn-primary btn-block\" data-loading-text=\"Adding...\" type=\"submit\">\n",
      "              Add to basket\n",
      "             </button>\n",
      "            </form>\n",
      "           </div>\n",
      "          </article>\n",
      "         </li>\n",
      "         <li class=\"col-xs-6 col-sm-4 col-md-3 col-lg-3\">\n",
      "          <article class=\"product_pod\">\n",
      "           <div class=\"image_container\">\n",
      "            <a href=\"catalogue/soumission_998/index.html\">\n",
      "             <img alt=\"Soumission\" class=\"thumbnail\" src=\"media/cache/3e/ef/3eef99c9d9adef34639f510662022830.jpg\"/>\n",
      "            </a>\n",
      "           </div>\n",
      "           <p class=\"star-rating One\">\n",
      "            <i class=\"icon-star\">\n",
      "            </i>\n",
      "            <i class=\"icon-star\">\n",
      "            </i>\n",
      "            <i class=\"icon-star\">\n",
      "            </i>\n",
      "            <i class=\"icon-star\">\n",
      "            </i>\n",
      "            <i class=\"icon-star\">\n",
      "            </i>\n",
      "           </p>\n",
      "           <h3>\n",
      "            <a href=\"catalogue/soumission_998/index.html\" title=\"Soumission\">\n",
      "             Soumission\n",
      "            </a>\n",
      "           </h3>\n",
      "           <div class=\"product_price\">\n",
      "            <p class=\"price_color\">\n",
      "             Â£50.10\n",
      "            </p>\n",
      "            <p class=\"instock availability\">\n",
      "             <i class=\"icon-ok\">\n",
      "             </i>\n",
      "             In stock\n",
      "            </p>\n",
      "            <form>\n",
      "             <button class=\"btn btn-primary btn-block\" data-loading-text=\"Adding...\" type=\"submit\">\n",
      "              Add to basket\n",
      "             </button>\n",
      "            </form>\n",
      "           </div>\n",
      "          </article>\n",
      "         </li>\n",
      "         <li class=\"col-xs-6 col-sm-4 col-md-3 col-lg-3\">\n",
      "          <article class=\"product_pod\">\n",
      "           <div class=\"image_container\">\n",
      "            <a href=\"catalogue/sharp-objects_997/index.html\">\n",
      "             <img alt=\"Sharp Objects\" class=\"thumbnail\" src=\"media/cache/32/51/3251cf3a3412f53f339e42cac2134093.jpg\"/>\n",
      "            </a>\n",
      "           </div>\n",
      "           <p class=\"star-rating Four\">\n",
      "            <i class=\"icon-star\">\n",
      "            </i>\n",
      "            <i class=\"icon-star\">\n",
      "            </i>\n",
      "            <i class=\"icon-star\">\n",
      "            </i>\n",
      "            <i class=\"icon-star\">\n",
      "            </i>\n",
      "            <i class=\"icon-star\">\n",
      "            </i>\n",
      "           </p>\n",
      "           <h3>\n",
      "            <a href=\"catalogue/sharp-objects_997/index.html\" title=\"Sharp Objects\">\n",
      "             Sharp Objects\n",
      "            </a>\n",
      "           </h3>\n",
      "           <div class=\"product_price\">\n",
      "            <p class=\"price_color\">\n",
      "             Â£47.82\n",
      "            </p>\n",
      "            <p class=\"instock availability\">\n",
      "             <i class=\"icon-ok\">\n",
      "             </i>\n",
      "             In stock\n",
      "            </p>\n",
      "            <form>\n",
      "             <button class=\"btn btn-primary btn-block\" data-loading-text=\"Adding...\" type=\"submit\">\n",
      "              Add to basket\n",
      "             </button>\n",
      "            </form>\n",
      "           </div>\n",
      "          </article>\n",
      "         </li>\n",
      "         <li class=\"col-xs-6 col-sm-4 col-md-3 col-lg-3\">\n",
      "          <article class=\"product_pod\">\n",
      "           <div class=\"image_container\">\n",
      "            <a href=\"catalogue/sapiens-a-brief-history-of-humankind_996/index.html\">\n",
      "             <img alt=\"Sapiens: A Brief History of Humankind\" class=\"thumbnail\" src=\"media/cache/be/a5/bea5697f2534a2f86a3ef27b5a8c12a6.jpg\"/>\n",
      "            </a>\n",
      "           </div>\n",
      "           <p class=\"star-rating Five\">\n",
      "            <i class=\"icon-star\">\n",
      "            </i>\n",
      "            <i class=\"icon-star\">\n",
      "            </i>\n",
      "            <i class=\"icon-star\">\n",
      "            </i>\n",
      "            <i class=\"icon-star\">\n",
      "            </i>\n",
      "            <i class=\"icon-star\">\n",
      "            </i>\n",
      "           </p>\n",
      "           <h3>\n",
      "            <a href=\"catalogue/sapiens-a-brief-history-of-humankind_996/index.html\" title=\"Sapiens: A Brief History of Humankind\">\n",
      "             Sapiens: A Brief History ...\n",
      "            </a>\n",
      "           </h3>\n",
      "           <div class=\"product_price\">\n",
      "            <p class=\"price_color\">\n",
      "             Â£54.23\n",
      "            </p>\n",
      "            <p class=\"instock availability\">\n",
      "             <i class=\"icon-ok\">\n",
      "             </i>\n",
      "             In stock\n",
      "            </p>\n",
      "            <form>\n",
      "             <button class=\"btn btn-primary btn-block\" data-loading-text=\"Adding...\" type=\"submit\">\n",
      "              Add to basket\n",
      "             </button>\n",
      "            </form>\n",
      "           </div>\n",
      "          </article>\n",
      "         </li>\n",
      "         <li class=\"col-xs-6 col-sm-4 col-md-3 col-lg-3\">\n",
      "          <article class=\"product_pod\">\n",
      "           <div class=\"image_container\">\n",
      "            <a href=\"catalogue/the-requiem-red_995/index.html\">\n",
      "             <img alt=\"The Requiem Red\" class=\"thumbnail\" src=\"media/cache/68/33/68339b4c9bc034267e1da611ab3b34f8.jpg\"/>\n",
      "            </a>\n",
      "           </div>\n",
      "           <p class=\"star-rating One\">\n",
      "            <i class=\"icon-star\">\n",
      "            </i>\n",
      "            <i class=\"icon-star\">\n",
      "            </i>\n",
      "            <i class=\"icon-star\">\n",
      "            </i>\n",
      "            <i class=\"icon-star\">\n",
      "            </i>\n",
      "            <i class=\"icon-star\">\n",
      "            </i>\n",
      "           </p>\n",
      "           <h3>\n",
      "            <a href=\"catalogue/the-requiem-red_995/index.html\" title=\"The Requiem Red\">\n",
      "             The Requiem Red\n",
      "            </a>\n",
      "           </h3>\n",
      "           <div class=\"product_price\">\n",
      "            <p class=\"price_color\">\n",
      "             Â£22.65\n",
      "            </p>\n",
      "            <p class=\"instock availability\">\n",
      "             <i class=\"icon-ok\">\n",
      "             </i>\n",
      "             In stock\n",
      "            </p>\n",
      "            <form>\n",
      "             <button class=\"btn btn-primary btn-block\" data-loading-text=\"Adding...\" type=\"submit\">\n",
      "              Add to basket\n",
      "             </button>\n",
      "            </form>\n",
      "           </div>\n",
      "          </article>\n",
      "         </li>\n",
      "         <li class=\"col-xs-6 col-sm-4 col-md-3 col-lg-3\">\n",
      "          <article class=\"product_pod\">\n",
      "           <div class=\"image_container\">\n",
      "            <a href=\"catalogue/the-dirty-little-secrets-of-getting-your-dream-job_994/index.html\">\n",
      "             <img alt=\"The Dirty Little Secrets of Getting Your Dream Job\" class=\"thumbnail\" src=\"media/cache/92/27/92274a95b7c251fea59a2b8a78275ab4.jpg\"/>\n",
      "            </a>\n",
      "           </div>\n",
      "           <p class=\"star-rating Four\">\n",
      "            <i class=\"icon-star\">\n",
      "            </i>\n",
      "            <i class=\"icon-star\">\n",
      "            </i>\n",
      "            <i class=\"icon-star\">\n",
      "            </i>\n",
      "            <i class=\"icon-star\">\n",
      "            </i>\n",
      "            <i class=\"icon-star\">\n",
      "            </i>\n",
      "           </p>\n",
      "           <h3>\n",
      "            <a href=\"catalogue/the-dirty-little-secrets-of-getting-your-dream-job_994/index.html\" title=\"The Dirty Little Secrets of Getting Your Dream Job\">\n",
      "             The Dirty Little Secrets ...\n",
      "            </a>\n",
      "           </h3>\n",
      "           <div class=\"product_price\">\n",
      "            <p class=\"price_color\">\n",
      "             Â£33.34\n",
      "            </p>\n",
      "            <p class=\"instock availability\">\n",
      "             <i class=\"icon-ok\">\n",
      "             </i>\n",
      "             In stock\n",
      "            </p>\n",
      "            <form>\n",
      "             <button class=\"btn btn-primary btn-block\" data-loading-text=\"Adding...\" type=\"submit\">\n",
      "              Add to basket\n",
      "             </button>\n",
      "            </form>\n",
      "           </div>\n",
      "          </article>\n",
      "         </li>\n",
      "         <li class=\"col-xs-6 col-sm-4 col-md-3 col-lg-3\">\n",
      "          <article class=\"product_pod\">\n",
      "           <div class=\"image_container\">\n",
      "            <a href=\"catalogue/the-coming-woman-a-novel-based-on-the-life-of-the-infamous-feminist-victoria-woodhull_993/index.html\">\n",
      "             <img alt=\"The Coming Woman: A Novel Based on the Life of the Infamous Feminist, Victoria Woodhull\" class=\"thumbnail\" src=\"media/cache/3d/54/3d54940e57e662c4dd1f3ff00c78cc64.jpg\"/>\n",
      "            </a>\n",
      "           </div>\n",
      "           <p class=\"star-rating Three\">\n",
      "            <i class=\"icon-star\">\n",
      "            </i>\n",
      "            <i class=\"icon-star\">\n",
      "            </i>\n",
      "            <i class=\"icon-star\">\n",
      "            </i>\n",
      "            <i class=\"icon-star\">\n",
      "            </i>\n",
      "            <i class=\"icon-star\">\n",
      "            </i>\n",
      "           </p>\n",
      "           <h3>\n",
      "            <a href=\"catalogue/the-coming-woman-a-novel-based-on-the-life-of-the-infamous-feminist-victoria-woodhull_993/index.html\" title=\"The Coming Woman: A Novel Based on the Life of the Infamous Feminist, Victoria Woodhull\">\n",
      "             The Coming Woman: A ...\n",
      "            </a>\n",
      "           </h3>\n",
      "           <div class=\"product_price\">\n",
      "            <p class=\"price_color\">\n",
      "             Â£17.93\n",
      "            </p>\n",
      "            <p class=\"instock availability\">\n",
      "             <i class=\"icon-ok\">\n",
      "             </i>\n",
      "             In stock\n",
      "            </p>\n",
      "            <form>\n",
      "             <button class=\"btn btn-primary btn-block\" data-loading-text=\"Adding...\" type=\"submit\">\n",
      "              Add to basket\n",
      "             </button>\n",
      "            </form>\n",
      "           </div>\n",
      "          </article>\n",
      "         </li>\n",
      "         <li class=\"col-xs-6 col-sm-4 col-md-3 col-lg-3\">\n",
      "          <article class=\"product_pod\">\n",
      "           <div class=\"image_container\">\n",
      "            <a href=\"catalogue/the-boys-in-the-boat-nine-americans-and-their-epic-quest-for-gold-at-the-1936-berlin-olympics_992/index.html\">\n",
      "             <img alt=\"The Boys in the Boat: Nine Americans and Their Epic Quest for Gold at the 1936 Berlin Olympics\" class=\"thumbnail\" src=\"media/cache/66/88/66883b91f6804b2323c8369331cb7dd1.jpg\"/>\n",
      "            </a>\n",
      "           </div>\n",
      "           <p class=\"star-rating Four\">\n",
      "            <i class=\"icon-star\">\n",
      "            </i>\n",
      "            <i class=\"icon-star\">\n",
      "            </i>\n",
      "            <i class=\"icon-star\">\n",
      "            </i>\n",
      "            <i class=\"icon-star\">\n",
      "            </i>\n",
      "            <i class=\"icon-star\">\n",
      "            </i>\n",
      "           </p>\n",
      "           <h3>\n",
      "            <a href=\"catalogue/the-boys-in-the-boat-nine-americans-and-their-epic-quest-for-gold-at-the-1936-berlin-olympics_992/index.html\" title=\"The Boys in the Boat: Nine Americans and Their Epic Quest for Gold at the 1936 Berlin Olympics\">\n",
      "             The Boys in the ...\n",
      "            </a>\n",
      "           </h3>\n",
      "           <div class=\"product_price\">\n",
      "            <p class=\"price_color\">\n",
      "             Â£22.60\n",
      "            </p>\n",
      "            <p class=\"instock availability\">\n",
      "             <i class=\"icon-ok\">\n",
      "             </i>\n",
      "             In stock\n",
      "            </p>\n",
      "            <form>\n",
      "             <button class=\"btn btn-primary btn-block\" data-loading-text=\"Adding...\" type=\"submit\">\n",
      "              Add to basket\n",
      "             </button>\n",
      "            </form>\n",
      "           </div>\n",
      "          </article>\n",
      "         </li>\n",
      "         <li class=\"col-xs-6 col-sm-4 col-md-3 col-lg-3\">\n",
      "          <article class=\"product_pod\">\n",
      "           <div class=\"image_container\">\n",
      "            <a href=\"catalogue/the-black-maria_991/index.html\">\n",
      "             <img alt=\"The Black Maria\" class=\"thumbnail\" src=\"media/cache/58/46/5846057e28022268153beff6d352b06c.jpg\"/>\n",
      "            </a>\n",
      "           </div>\n",
      "           <p class=\"star-rating One\">\n",
      "            <i class=\"icon-star\">\n",
      "            </i>\n",
      "            <i class=\"icon-star\">\n",
      "            </i>\n",
      "            <i class=\"icon-star\">\n",
      "            </i>\n",
      "            <i class=\"icon-star\">\n",
      "            </i>\n",
      "            <i class=\"icon-star\">\n",
      "            </i>\n",
      "           </p>\n",
      "           <h3>\n",
      "            <a href=\"catalogue/the-black-maria_991/index.html\" title=\"The Black Maria\">\n",
      "             The Black Maria\n",
      "            </a>\n",
      "           </h3>\n",
      "           <div class=\"product_price\">\n",
      "            <p class=\"price_color\">\n",
      "             Â£52.15\n",
      "            </p>\n",
      "            <p class=\"instock availability\">\n",
      "             <i class=\"icon-ok\">\n",
      "             </i>\n",
      "             In stock\n",
      "            </p>\n",
      "            <form>\n",
      "             <button class=\"btn btn-primary btn-block\" data-loading-text=\"Adding...\" type=\"submit\">\n",
      "              Add to basket\n",
      "             </button>\n",
      "            </form>\n",
      "           </div>\n",
      "          </article>\n",
      "         </li>\n",
      "         <li class=\"col-xs-6 col-sm-4 col-md-3 col-lg-3\">\n",
      "          <article class=\"product_pod\">\n",
      "           <div class=\"image_container\">\n",
      "            <a href=\"catalogue/starving-hearts-triangular-trade-trilogy-1_990/index.html\">\n",
      "             <img alt=\"Starving Hearts (Triangular Trade Trilogy, #1)\" class=\"thumbnail\" src=\"media/cache/be/f4/bef44da28c98f905a3ebec0b87be8530.jpg\"/>\n",
      "            </a>\n",
      "           </div>\n",
      "           <p class=\"star-rating Two\">\n",
      "            <i class=\"icon-star\">\n",
      "            </i>\n",
      "            <i class=\"icon-star\">\n",
      "            </i>\n",
      "            <i class=\"icon-star\">\n",
      "            </i>\n",
      "            <i class=\"icon-star\">\n",
      "            </i>\n",
      "            <i class=\"icon-star\">\n",
      "            </i>\n",
      "           </p>\n",
      "           <h3>\n",
      "            <a href=\"catalogue/starving-hearts-triangular-trade-trilogy-1_990/index.html\" title=\"Starving Hearts (Triangular Trade Trilogy, #1)\">\n",
      "             Starving Hearts (Triangular Trade ...\n",
      "            </a>\n",
      "           </h3>\n",
      "           <div class=\"product_price\">\n",
      "            <p class=\"price_color\">\n",
      "             Â£13.99\n",
      "            </p>\n",
      "            <p class=\"instock availability\">\n",
      "             <i class=\"icon-ok\">\n",
      "             </i>\n",
      "             In stock\n",
      "            </p>\n",
      "            <form>\n",
      "             <button class=\"btn btn-primary btn-block\" data-loading-text=\"Adding...\" type=\"submit\">\n",
      "              Add to basket\n",
      "             </button>\n",
      "            </form>\n",
      "           </div>\n",
      "          </article>\n",
      "         </li>\n",
      "         <li class=\"col-xs-6 col-sm-4 col-md-3 col-lg-3\">\n",
      "          <article class=\"product_pod\">\n",
      "           <div class=\"image_container\">\n",
      "            <a href=\"catalogue/shakespeares-sonnets_989/index.html\">\n",
      "             <img alt=\"Shakespeare's Sonnets\" class=\"thumbnail\" src=\"media/cache/10/48/1048f63d3b5061cd2f424d20b3f9b666.jpg\"/>\n",
      "            </a>\n",
      "           </div>\n",
      "           <p class=\"star-rating Four\">\n",
      "            <i class=\"icon-star\">\n",
      "            </i>\n",
      "            <i class=\"icon-star\">\n",
      "            </i>\n",
      "            <i class=\"icon-star\">\n",
      "            </i>\n",
      "            <i class=\"icon-star\">\n",
      "            </i>\n",
      "            <i class=\"icon-star\">\n",
      "            </i>\n",
      "           </p>\n",
      "           <h3>\n",
      "            <a href=\"catalogue/shakespeares-sonnets_989/index.html\" title=\"Shakespeare's Sonnets\">\n",
      "             Shakespeare's Sonnets\n",
      "            </a>\n",
      "           </h3>\n",
      "           <div class=\"product_price\">\n",
      "            <p class=\"price_color\">\n",
      "             Â£20.66\n",
      "            </p>\n",
      "            <p class=\"instock availability\">\n",
      "             <i class=\"icon-ok\">\n",
      "             </i>\n",
      "             In stock\n",
      "            </p>\n",
      "            <form>\n",
      "             <button class=\"btn btn-primary btn-block\" data-loading-text=\"Adding...\" type=\"submit\">\n",
      "              Add to basket\n",
      "             </button>\n",
      "            </form>\n",
      "           </div>\n",
      "          </article>\n",
      "         </li>\n",
      "         <li class=\"col-xs-6 col-sm-4 col-md-3 col-lg-3\">\n",
      "          <article class=\"product_pod\">\n",
      "           <div class=\"image_container\">\n",
      "            <a href=\"catalogue/set-me-free_988/index.html\">\n",
      "             <img alt=\"Set Me Free\" class=\"thumbnail\" src=\"media/cache/5b/88/5b88c52633f53cacf162c15f4f823153.jpg\"/>\n",
      "            </a>\n",
      "           </div>\n",
      "           <p class=\"star-rating Five\">\n",
      "            <i class=\"icon-star\">\n",
      "            </i>\n",
      "            <i class=\"icon-star\">\n",
      "            </i>\n",
      "            <i class=\"icon-star\">\n",
      "            </i>\n",
      "            <i class=\"icon-star\">\n",
      "            </i>\n",
      "            <i class=\"icon-star\">\n",
      "            </i>\n",
      "           </p>\n",
      "           <h3>\n",
      "            <a href=\"catalogue/set-me-free_988/index.html\" title=\"Set Me Free\">\n",
      "             Set Me Free\n",
      "            </a>\n",
      "           </h3>\n",
      "           <div class=\"product_price\">\n",
      "            <p class=\"price_color\">\n",
      "             Â£17.46\n",
      "            </p>\n",
      "            <p class=\"instock availability\">\n",
      "             <i class=\"icon-ok\">\n",
      "             </i>\n",
      "             In stock\n",
      "            </p>\n",
      "            <form>\n",
      "             <button class=\"btn btn-primary btn-block\" data-loading-text=\"Adding...\" type=\"submit\">\n",
      "              Add to basket\n",
      "             </button>\n",
      "            </form>\n",
      "           </div>\n",
      "          </article>\n",
      "         </li>\n",
      "         <li class=\"col-xs-6 col-sm-4 col-md-3 col-lg-3\">\n",
      "          <article class=\"product_pod\">\n",
      "           <div class=\"image_container\">\n",
      "            <a href=\"catalogue/scott-pilgrims-precious-little-life-scott-pilgrim-1_987/index.html\">\n",
      "             <img alt=\"Scott Pilgrim's Precious Little Life (Scott Pilgrim #1)\" class=\"thumbnail\" src=\"media/cache/94/b1/94b1b8b244bce9677c2f29ccc890d4d2.jpg\"/>\n",
      "            </a>\n",
      "           </div>\n",
      "           <p class=\"star-rating Five\">\n",
      "            <i class=\"icon-star\">\n",
      "            </i>\n",
      "            <i class=\"icon-star\">\n",
      "            </i>\n",
      "            <i class=\"icon-star\">\n",
      "            </i>\n",
      "            <i class=\"icon-star\">\n",
      "            </i>\n",
      "            <i class=\"icon-star\">\n",
      "            </i>\n",
      "           </p>\n",
      "           <h3>\n",
      "            <a href=\"catalogue/scott-pilgrims-precious-little-life-scott-pilgrim-1_987/index.html\" title=\"Scott Pilgrim's Precious Little Life (Scott Pilgrim #1)\">\n",
      "             Scott Pilgrim's Precious Little ...\n",
      "            </a>\n",
      "           </h3>\n",
      "           <div class=\"product_price\">\n",
      "            <p class=\"price_color\">\n",
      "             Â£52.29\n",
      "            </p>\n",
      "            <p class=\"instock availability\">\n",
      "             <i class=\"icon-ok\">\n",
      "             </i>\n",
      "             In stock\n",
      "            </p>\n",
      "            <form>\n",
      "             <button class=\"btn btn-primary btn-block\" data-loading-text=\"Adding...\" type=\"submit\">\n",
      "              Add to basket\n",
      "             </button>\n",
      "            </form>\n",
      "           </div>\n",
      "          </article>\n",
      "         </li>\n",
      "         <li class=\"col-xs-6 col-sm-4 col-md-3 col-lg-3\">\n",
      "          <article class=\"product_pod\">\n",
      "           <div class=\"image_container\">\n",
      "            <a href=\"catalogue/rip-it-up-and-start-again_986/index.html\">\n",
      "             <img alt=\"Rip it Up and Start Again\" class=\"thumbnail\" src=\"media/cache/81/c4/81c4a973364e17d01f217e1188253d5e.jpg\"/>\n",
      "            </a>\n",
      "           </div>\n",
      "           <p class=\"star-rating Five\">\n",
      "            <i class=\"icon-star\">\n",
      "            </i>\n",
      "            <i class=\"icon-star\">\n",
      "            </i>\n",
      "            <i class=\"icon-star\">\n",
      "            </i>\n",
      "            <i class=\"icon-star\">\n",
      "            </i>\n",
      "            <i class=\"icon-star\">\n",
      "            </i>\n",
      "           </p>\n",
      "           <h3>\n",
      "            <a href=\"catalogue/rip-it-up-and-start-again_986/index.html\" title=\"Rip it Up and Start Again\">\n",
      "             Rip it Up and ...\n",
      "            </a>\n",
      "           </h3>\n",
      "           <div class=\"product_price\">\n",
      "            <p class=\"price_color\">\n",
      "             Â£35.02\n",
      "            </p>\n",
      "            <p class=\"instock availability\">\n",
      "             <i class=\"icon-ok\">\n",
      "             </i>\n",
      "             In stock\n",
      "            </p>\n",
      "            <form>\n",
      "             <button class=\"btn btn-primary btn-block\" data-loading-text=\"Adding...\" type=\"submit\">\n",
      "              Add to basket\n",
      "             </button>\n",
      "            </form>\n",
      "           </div>\n",
      "          </article>\n",
      "         </li>\n",
      "         <li class=\"col-xs-6 col-sm-4 col-md-3 col-lg-3\">\n",
      "          <article class=\"product_pod\">\n",
      "           <div class=\"image_container\">\n",
      "            <a href=\"catalogue/our-band-could-be-your-life-scenes-from-the-american-indie-underground-1981-1991_985/index.html\">\n",
      "             <img alt=\"Our Band Could Be Your Life: Scenes from the American Indie Underground, 1981-1991\" class=\"thumbnail\" src=\"media/cache/54/60/54607fe8945897cdcced0044103b10b6.jpg\"/>\n",
      "            </a>\n",
      "           </div>\n",
      "           <p class=\"star-rating Three\">\n",
      "            <i class=\"icon-star\">\n",
      "            </i>\n",
      "            <i class=\"icon-star\">\n",
      "            </i>\n",
      "            <i class=\"icon-star\">\n",
      "            </i>\n",
      "            <i class=\"icon-star\">\n",
      "            </i>\n",
      "            <i class=\"icon-star\">\n",
      "            </i>\n",
      "           </p>\n",
      "           <h3>\n",
      "            <a href=\"catalogue/our-band-could-be-your-life-scenes-from-the-american-indie-underground-1981-1991_985/index.html\" title=\"Our Band Could Be Your Life: Scenes from the American Indie Underground, 1981-1991\">\n",
      "             Our Band Could Be ...\n",
      "            </a>\n",
      "           </h3>\n",
      "           <div class=\"product_price\">\n",
      "            <p class=\"price_color\">\n",
      "             Â£57.25\n",
      "            </p>\n",
      "            <p class=\"instock availability\">\n",
      "             <i class=\"icon-ok\">\n",
      "             </i>\n",
      "             In stock\n",
      "            </p>\n",
      "            <form>\n",
      "             <button class=\"btn btn-primary btn-block\" data-loading-text=\"Adding...\" type=\"submit\">\n",
      "              Add to basket\n",
      "             </button>\n",
      "            </form>\n",
      "           </div>\n",
      "          </article>\n",
      "         </li>\n",
      "         <li class=\"col-xs-6 col-sm-4 col-md-3 col-lg-3\">\n",
      "          <article class=\"product_pod\">\n",
      "           <div class=\"image_container\">\n",
      "            <a href=\"catalogue/olio_984/index.html\">\n",
      "             <img alt=\"Olio\" class=\"thumbnail\" src=\"media/cache/55/33/553310a7162dfbc2c6d19a84da0df9e1.jpg\"/>\n",
      "            </a>\n",
      "           </div>\n",
      "           <p class=\"star-rating One\">\n",
      "            <i class=\"icon-star\">\n",
      "            </i>\n",
      "            <i class=\"icon-star\">\n",
      "            </i>\n",
      "            <i class=\"icon-star\">\n",
      "            </i>\n",
      "            <i class=\"icon-star\">\n",
      "            </i>\n",
      "            <i class=\"icon-star\">\n",
      "            </i>\n",
      "           </p>\n",
      "           <h3>\n",
      "            <a href=\"catalogue/olio_984/index.html\" title=\"Olio\">\n",
      "             Olio\n",
      "            </a>\n",
      "           </h3>\n",
      "           <div class=\"product_price\">\n",
      "            <p class=\"price_color\">\n",
      "             Â£23.88\n",
      "            </p>\n",
      "            <p class=\"instock availability\">\n",
      "             <i class=\"icon-ok\">\n",
      "             </i>\n",
      "             In stock\n",
      "            </p>\n",
      "            <form>\n",
      "             <button class=\"btn btn-primary btn-block\" data-loading-text=\"Adding...\" type=\"submit\">\n",
      "              Add to basket\n",
      "             </button>\n",
      "            </form>\n",
      "           </div>\n",
      "          </article>\n",
      "         </li>\n",
      "         <li class=\"col-xs-6 col-sm-4 col-md-3 col-lg-3\">\n",
      "          <article class=\"product_pod\">\n",
      "           <div class=\"image_container\">\n",
      "            <a href=\"catalogue/mesaerion-the-best-science-fiction-stories-1800-1849_983/index.html\">\n",
      "             <img alt=\"Mesaerion: The Best Science Fiction Stories 1800-1849\" class=\"thumbnail\" src=\"media/cache/09/a3/09a3aef48557576e1a85ba7efea8ecb7.jpg\"/>\n",
      "            </a>\n",
      "           </div>\n",
      "           <p class=\"star-rating One\">\n",
      "            <i class=\"icon-star\">\n",
      "            </i>\n",
      "            <i class=\"icon-star\">\n",
      "            </i>\n",
      "            <i class=\"icon-star\">\n",
      "            </i>\n",
      "            <i class=\"icon-star\">\n",
      "            </i>\n",
      "            <i class=\"icon-star\">\n",
      "            </i>\n",
      "           </p>\n",
      "           <h3>\n",
      "            <a href=\"catalogue/mesaerion-the-best-science-fiction-stories-1800-1849_983/index.html\" title=\"Mesaerion: The Best Science Fiction Stories 1800-1849\">\n",
      "             Mesaerion: The Best Science ...\n",
      "            </a>\n",
      "           </h3>\n",
      "           <div class=\"product_price\">\n",
      "            <p class=\"price_color\">\n",
      "             Â£37.59\n",
      "            </p>\n",
      "            <p class=\"instock availability\">\n",
      "             <i class=\"icon-ok\">\n",
      "             </i>\n",
      "             In stock\n",
      "            </p>\n",
      "            <form>\n",
      "             <button class=\"btn btn-primary btn-block\" data-loading-text=\"Adding...\" type=\"submit\">\n",
      "              Add to basket\n",
      "             </button>\n",
      "            </form>\n",
      "           </div>\n",
      "          </article>\n",
      "         </li>\n",
      "         <li class=\"col-xs-6 col-sm-4 col-md-3 col-lg-3\">\n",
      "          <article class=\"product_pod\">\n",
      "           <div class=\"image_container\">\n",
      "            <a href=\"catalogue/libertarianism-for-beginners_982/index.html\">\n",
      "             <img alt=\"Libertarianism for Beginners\" class=\"thumbnail\" src=\"media/cache/0b/bc/0bbcd0a6f4bcd81ccb1049a52736406e.jpg\"/>\n",
      "            </a>\n",
      "           </div>\n",
      "           <p class=\"star-rating Two\">\n",
      "            <i class=\"icon-star\">\n",
      "            </i>\n",
      "            <i class=\"icon-star\">\n",
      "            </i>\n",
      "            <i class=\"icon-star\">\n",
      "            </i>\n",
      "            <i class=\"icon-star\">\n",
      "            </i>\n",
      "            <i class=\"icon-star\">\n",
      "            </i>\n",
      "           </p>\n",
      "           <h3>\n",
      "            <a href=\"catalogue/libertarianism-for-beginners_982/index.html\" title=\"Libertarianism for Beginners\">\n",
      "             Libertarianism for Beginners\n",
      "            </a>\n",
      "           </h3>\n",
      "           <div class=\"product_price\">\n",
      "            <p class=\"price_color\">\n",
      "             Â£51.33\n",
      "            </p>\n",
      "            <p class=\"instock availability\">\n",
      "             <i class=\"icon-ok\">\n",
      "             </i>\n",
      "             In stock\n",
      "            </p>\n",
      "            <form>\n",
      "             <button class=\"btn btn-primary btn-block\" data-loading-text=\"Adding...\" type=\"submit\">\n",
      "              Add to basket\n",
      "             </button>\n",
      "            </form>\n",
      "           </div>\n",
      "          </article>\n",
      "         </li>\n",
      "         <li class=\"col-xs-6 col-sm-4 col-md-3 col-lg-3\">\n",
      "          <article class=\"product_pod\">\n",
      "           <div class=\"image_container\">\n",
      "            <a href=\"catalogue/its-only-the-himalayas_981/index.html\">\n",
      "             <img alt=\"It's Only the Himalayas\" class=\"thumbnail\" src=\"media/cache/27/a5/27a53d0bb95bdd88288eaf66c9230d7e.jpg\"/>\n",
      "            </a>\n",
      "           </div>\n",
      "           <p class=\"star-rating Two\">\n",
      "            <i class=\"icon-star\">\n",
      "            </i>\n",
      "            <i class=\"icon-star\">\n",
      "            </i>\n",
      "            <i class=\"icon-star\">\n",
      "            </i>\n",
      "            <i class=\"icon-star\">\n",
      "            </i>\n",
      "            <i class=\"icon-star\">\n",
      "            </i>\n",
      "           </p>\n",
      "           <h3>\n",
      "            <a href=\"catalogue/its-only-the-himalayas_981/index.html\" title=\"It's Only the Himalayas\">\n",
      "             It's Only the Himalayas\n",
      "            </a>\n",
      "           </h3>\n",
      "           <div class=\"product_price\">\n",
      "            <p class=\"price_color\">\n",
      "             Â£45.17\n",
      "            </p>\n",
      "            <p class=\"instock availability\">\n",
      "             <i class=\"icon-ok\">\n",
      "             </i>\n",
      "             In stock\n",
      "            </p>\n",
      "            <form>\n",
      "             <button class=\"btn btn-primary btn-block\" data-loading-text=\"Adding...\" type=\"submit\">\n",
      "              Add to basket\n",
      "             </button>\n",
      "            </form>\n",
      "           </div>\n",
      "          </article>\n",
      "         </li>\n",
      "        </ol>\n",
      "        <div>\n",
      "         <ul class=\"pager\">\n",
      "          <li class=\"current\">\n",
      "           Page 1 of 50\n",
      "          </li>\n",
      "          <li class=\"next\">\n",
      "           <a href=\"catalogue/page-2.html\">\n",
      "            next\n",
      "           </a>\n",
      "          </li>\n",
      "         </ul>\n",
      "        </div>\n",
      "       </div>\n",
      "      </section>\n",
      "     </div>\n",
      "    </div>\n",
      "    <!-- /row -->\n",
      "   </div>\n",
      "   <!-- /page_inner -->\n",
      "  </div>\n",
      "  <!-- /container-fluid -->\n",
      "  <footer class=\"footer container-fluid\">\n",
      "  </footer>\n",
      "  <!-- jQuery -->\n",
      "  <script src=\"http://ajax.googleapis.com/ajax/libs/jquery/1.9.1/jquery.min.js\">\n",
      "  </script>\n",
      "  <script>\n",
      "   window.jQuery || document.write('<script src=\"static/oscar/js/jquery/jquery-1.9.1.min.js\"><\\/script>')\n",
      "  </script>\n",
      "  <!-- Twitter Bootstrap -->\n",
      "  <script src=\"static/oscar/js/bootstrap3/bootstrap.min.js\" type=\"text/javascript\">\n",
      "  </script>\n",
      "  <!-- Oscar -->\n",
      "  <script charset=\"utf-8\" src=\"static/oscar/js/oscar/ui.js\" type=\"text/javascript\">\n",
      "  </script>\n",
      "  <script charset=\"utf-8\" src=\"static/oscar/js/bootstrap-datetimepicker/bootstrap-datetimepicker.js\" type=\"text/javascript\">\n",
      "  </script>\n",
      "  <script charset=\"utf-8\" src=\"static/oscar/js/bootstrap-datetimepicker/locales/bootstrap-datetimepicker.all.js\" type=\"text/javascript\">\n",
      "  </script>\n",
      "  <script type=\"text/javascript\">\n",
      "   $(function() {\n",
      "                \n",
      "    \n",
      "    \n",
      "    oscar.init();\n",
      "\n",
      "    oscar.search.init();\n",
      "\n",
      "            });\n",
      "  </script>\n",
      "  <!-- Version: N/A -->\n",
      " </body>\n",
      "</html>\n",
      "\n"
     ]
    }
   ],
   "source": [
    "data = BeautifulSoup(html_data, 'html.parser')\n",
    "print(data.prettify())"
   ]
  },
  {
   "cell_type": "code",
   "execution_count": 51,
   "metadata": {},
   "outputs": [
    {
     "data": {
      "text/plain": [
       "<title>\n",
       "    All products | Books to Scrape - Sandbox\n",
       "</title>"
      ]
     },
     "execution_count": 51,
     "metadata": {},
     "output_type": "execute_result"
    }
   ],
   "source": [
    "data.title"
   ]
  },
  {
   "cell_type": "code",
   "execution_count": 52,
   "metadata": {},
   "outputs": [
    {
     "data": {
      "text/plain": [
       "<a href=\"index.html\">Books to Scrape</a>"
      ]
     },
     "execution_count": 52,
     "metadata": {},
     "output_type": "execute_result"
    }
   ],
   "source": [
    "data.a # first link"
   ]
  },
  {
   "cell_type": "code",
   "execution_count": 53,
   "metadata": {},
   "outputs": [
    {
     "data": {
      "text/plain": [
       "'Books to Scrape'"
      ]
     },
     "execution_count": 53,
     "metadata": {},
     "output_type": "execute_result"
    }
   ],
   "source": [
    "data.a.string "
   ]
  },
  {
   "cell_type": "code",
   "execution_count": 54,
   "metadata": {},
   "outputs": [
    {
     "data": {
      "text/plain": [
       "<a href=\"index.html\">Books to Scrape</a>"
      ]
     },
     "execution_count": 54,
     "metadata": {},
     "output_type": "execute_result"
    }
   ],
   "source": [
    "data.header.a # a of header"
   ]
  },
  {
   "cell_type": "code",
   "execution_count": 55,
   "metadata": {},
   "outputs": [
    {
     "data": {
      "text/plain": [
       "'Books to Scrape'"
      ]
     },
     "execution_count": 55,
     "metadata": {},
     "output_type": "execute_result"
    }
   ],
   "source": [
    "data.header.a.string"
   ]
  },
  {
   "cell_type": "code",
   "execution_count": 56,
   "metadata": {},
   "outputs": [],
   "source": [
    "b1 = data.find(class_ = 'product_pod') # first product with class product_pod"
   ]
  },
  {
   "cell_type": "code",
   "execution_count": 57,
   "metadata": {},
   "outputs": [
    {
     "data": {
      "text/plain": [
       "<h3><a href=\"catalogue/a-light-in-the-attic_1000/index.html\" title=\"A Light in the Attic\">A Light in the ...</a></h3>"
      ]
     },
     "execution_count": 57,
     "metadata": {},
     "output_type": "execute_result"
    }
   ],
   "source": [
    "b1.h3"
   ]
  },
  {
   "cell_type": "code",
   "execution_count": 58,
   "metadata": {},
   "outputs": [
    {
     "data": {
      "text/plain": [
       "<a href=\"catalogue/a-light-in-the-attic_1000/index.html\" title=\"A Light in the Attic\">A Light in the ...</a>"
      ]
     },
     "execution_count": 58,
     "metadata": {},
     "output_type": "execute_result"
    }
   ],
   "source": [
    "b1.h3.a"
   ]
  },
  {
   "cell_type": "code",
   "execution_count": 59,
   "metadata": {},
   "outputs": [
    {
     "data": {
      "text/plain": [
       "'A Light in the Attic'"
      ]
     },
     "execution_count": 59,
     "metadata": {},
     "output_type": "execute_result"
    }
   ],
   "source": [
    "b1.h3.a[\"title\"]"
   ]
  },
  {
   "cell_type": "code",
   "execution_count": 60,
   "metadata": {},
   "outputs": [
    {
     "data": {
      "text/plain": [
       "'catalogue/a-light-in-the-attic_1000/index.html'"
      ]
     },
     "execution_count": 60,
     "metadata": {},
     "output_type": "execute_result"
    }
   ],
   "source": [
    "b1.h3.a['href']"
   ]
  },
  {
   "cell_type": "code",
   "execution_count": 61,
   "metadata": {},
   "outputs": [
    {
     "name": "stdout",
     "output_type": "stream",
     "text": [
      "http://books.toscrape.com/catalogue/a-light-in-the-attic_1000/index.html\n"
     ]
    }
   ],
   "source": [
    "print('http://books.toscrape.com/' + b1.h3.a['href'])"
   ]
  },
  {
   "cell_type": "code",
   "execution_count": 62,
   "metadata": {},
   "outputs": [
    {
     "name": "stdout",
     "output_type": "stream",
     "text": [
      "20\n"
     ]
    }
   ],
   "source": [
    "# Link of each book available on first page of the website\n",
    "\n",
    "books = data.find_all(class_ = 'product_pod')\n",
    "\n",
    "print(len(books))"
   ]
  },
  {
   "cell_type": "code",
   "execution_count": 63,
   "metadata": {},
   "outputs": [
    {
     "name": "stdout",
     "output_type": "stream",
     "text": [
      "['http://books.toscrape.com/catalogue/tipping-the-velvet_999/index.html', 'http://books.toscrape.com/catalogue/soumission_998/index.html']\n"
     ]
    }
   ],
   "source": [
    "base_url = 'http://books.toscrape.com/'\n",
    "books_url = []\n",
    "\n",
    "for i in books:\n",
    "    books_url.append(base_url + i.h3.a['href'])\n",
    "    \n",
    "print(books_url[1:3])"
   ]
  },
  {
   "cell_type": "markdown",
   "metadata": {},
   "source": [
    "### Extracting information of all 1000 book available on the website"
   ]
  },
  {
   "cell_type": "code",
   "execution_count": 64,
   "metadata": {},
   "outputs": [],
   "source": [
    "all_urls = ['http://books.toscrape.com/catalogue/page-1.html']\n",
    "\n",
    "current_page = 'http://books.toscrape.com/catalogue/page-1.html'\n",
    "base_url = 'http://books.toscrape.com/catalogue/'\n",
    "\n",
    "response = requests.get(current_page)\n",
    "    \n",
    "while response.status_code == 200:\n",
    "\n",
    "    data = BeautifulSoup(response.text, 'html.parser')\n",
    "\n",
    "    next_page = data.find(class_ = 'next')\n",
    "    if(next_page is None):\n",
    "        break\n",
    "    next_page_url = base_url + next_page.a['href']\n",
    "    all_urls.append(next_page_url)\n",
    "    current_page = next_page_url\n",
    "    response = requests.get(current_page)"
   ]
  },
  {
   "cell_type": "code",
   "execution_count": 65,
   "metadata": {},
   "outputs": [
    {
     "name": "stdout",
     "output_type": "stream",
     "text": [
      "A Light in the Attic\n",
      "Tipping the Velvet\n",
      "Soumission\n",
      "Sharp Objects\n",
      "Sapiens: A Brief History of Humankind\n",
      "The Requiem Red\n",
      "The Dirty Little Secrets of Getting Your Dream Job\n",
      "The Coming Woman: A Novel Based on the Life of the Infamous Feminist, Victoria Woodhull\n",
      "The Boys in the Boat: Nine Americans and Their Epic Quest for Gold at the 1936 Berlin Olympics\n",
      "The Black Maria\n",
      "Starving Hearts (Triangular Trade Trilogy, #1)\n",
      "Shakespeare's Sonnets\n",
      "Set Me Free\n",
      "Scott Pilgrim's Precious Little Life (Scott Pilgrim #1)\n",
      "Rip it Up and Start Again\n",
      "Our Band Could Be Your Life: Scenes from the American Indie Underground, 1981-1991\n",
      "Olio\n",
      "Mesaerion: The Best Science Fiction Stories 1800-1849\n",
      "Libertarianism for Beginners\n",
      "It's Only the Himalayas\n",
      "In Her Wake\n",
      "How Music Works\n",
      "Foolproof Preserving: A Guide to Small Batch Jams, Jellies, Pickles, Condiments, and More: A Foolproof Guide to Making Small Batch Jams, Jellies, Pickles, Condiments, and More\n",
      "Chase Me (Paris Nights #2)\n",
      "Black Dust\n",
      "Birdsong: A Story in Pictures\n",
      "America's Cradle of Quarterbacks: Western Pennsylvania's Football Factory from Johnny Unitas to Joe Montana\n",
      "Aladdin and His Wonderful Lamp\n",
      "Worlds Elsewhere: Journeys Around Shakespeareâs Globe\n",
      "Wall and Piece\n",
      "The Four Agreements: A Practical Guide to Personal Freedom\n",
      "The Five Love Languages: How to Express Heartfelt Commitment to Your Mate\n",
      "The Elephant Tree\n",
      "The Bear and the Piano\n",
      "Sophie's World\n",
      "Penny Maybe\n",
      "Maude (1883-1993):She Grew Up with the country\n",
      "In a Dark, Dark Wood\n",
      "Behind Closed Doors\n",
      "You can't bury them all: Poems\n",
      "Slow States of Collapse: Poems\n",
      "Reasons to Stay Alive\n",
      "Private Paris (Private #10)\n",
      "#HigherSelfie: Wake Up Your Life. Free Your Soul. Find Your Tribe.\n",
      "Without Borders (Wanderlove #1)\n",
      "When We Collided\n",
      "We Love You, Charlie Freeman\n",
      "Untitled Collection: Sabbath Poems 2014\n",
      "Unseen City: The Majesty of Pigeons, the Discreet Charm of Snails & Other Wonders of the Urban Wilderness\n",
      "Unicorn Tracks\n",
      "Unbound: How Eight Technologies Made Us Human, Transformed Society, and Brought Our World to the Brink\n",
      "Tsubasa: WoRLD CHRoNiCLE 2 (Tsubasa WoRLD CHRoNiCLE #2)\n",
      "Throwing Rocks at the Google Bus: How Growth Became the Enemy of Prosperity\n",
      "This One Summer\n",
      "Thirst\n",
      "The Torch Is Passed: A Harding Family Story\n",
      "The Secret of Dreadwillow Carse\n",
      "The Pioneer Woman Cooks: Dinnertime: Comfort Classics, Freezer Food, 16-Minute Meals, and Other Delicious Ways to Solve Supper!\n",
      "The Past Never Ends\n",
      "The Natural History of Us (The Fine Art of Pretending #2)\n",
      "The Nameless City (The Nameless City #1)\n",
      "The Murder That Never Was (Forensic Instincts #5)\n",
      "The Most Perfect Thing: Inside (and Outside) a Bird's Egg\n",
      "The Mindfulness and Acceptance Workbook for Anxiety: A Guide to Breaking Free from Anxiety, Phobias, and Worry Using Acceptance and Commitment Therapy\n",
      "The Life-Changing Magic of Tidying Up: The Japanese Art of Decluttering and Organizing\n",
      "The Inefficiency Assassin: Time Management Tactics for Working Smarter, Not Longer\n",
      "The Gutsy Girl: Escapades for Your Life of Epic Adventure\n",
      "The Electric Pencil: Drawings from Inside State Hospital No. 3\n",
      "The Death of Humanity: and the Case for Life\n",
      "The Bulletproof Diet: Lose up to a Pound a Day, Reclaim Energy and Focus, Upgrade Your Life\n",
      "The Art Forger\n",
      "The Age of Genius: The Seventeenth Century and the Birth of the Modern Mind\n",
      "The Activist's Tao Te Ching: Ancient Advice for a Modern Revolution\n",
      "Spark Joy: An Illustrated Master Class on the Art of Organizing and Tidying Up\n",
      "Soul Reader\n",
      "Security\n",
      "Saga, Volume 6 (Saga (Collected Editions) #6)\n",
      "Saga, Volume 5 (Saga (Collected Editions) #5)\n",
      "Reskilling America: Learning to Labor in the Twenty-First Century\n",
      "Rat Queens, Vol. 3: Demons (Rat Queens (Collected Editions) #11-15)\n",
      "Princess Jellyfish 2-in-1 Omnibus, Vol. 01 (Princess Jellyfish 2-in-1 Omnibus #1)\n",
      "Princess Between Worlds (Wide-Awake Princess #5)\n",
      "Pop Gun War, Volume 1: Gift\n",
      "Political Suicide: Missteps, Peccadilloes, Bad Calls, Backroom Hijinx, Sordid Pasts, Rotten Breaks, and Just Plain Dumb Mistakes in the Annals of American Politics\n",
      "Patience\n",
      "Outcast, Vol. 1: A Darkness Surrounds Him (Outcast #1)\n",
      "orange: The Complete Collection 1 (orange: The Complete Collection #1)\n",
      "Online Marketing for Busy Authors: A Step-By-Step Guide\n",
      "On a Midnight Clear\n",
      "Obsidian (Lux #1)\n",
      "My Paris Kitchen: Recipes and Stories\n",
      "Masks and Shadows\n",
      "Mama Tried: Traditional Italian Cooking for the Screwed, Crude, Vegan, and Tattooed\n",
      "Lumberjanes, Vol. 2: Friendship to the Max (Lumberjanes #5-8)\n",
      "Lumberjanes, Vol. 1: Beware the Kitten Holy (Lumberjanes #1-4)\n",
      "Lumberjanes Vol. 3: A Terrible Plan (Lumberjanes #9-12)\n",
      "Layered: Baking, Building, and Styling Spectacular Cakes\n",
      "Judo: Seven Steps to Black Belt (an Introductory Guide for Beginners)\n",
      "Join\n",
      "In the Country We Love: My Family Divided\n",
      "Immunity: How Elie Metchnikoff Changed the Course of Modern Medicine\n",
      "I Hate Fairyland, Vol. 1: Madly Ever After (I Hate Fairyland (Compilations) #1-5)\n",
      "I am a Hero Omnibus Volume 1\n",
      "How to Be Miserable: 40 Strategies You Already Use\n",
      "Her Backup Boyfriend (The Sorensen Family #1)\n",
      "Giant Days, Vol. 2 (Giant Days #5-8)\n",
      "Forever and Forever: The Courtship of Henry Longfellow and Fanny Appleton\n",
      "First and First (Five Boroughs #3)\n",
      "Fifty Shades Darker (Fifty Shades #2)\n",
      "Everydata: The Misinformation Hidden in the Little Data You Consume Every Day\n",
      "Don't Be a Jerk: And Other Practical Advice from Dogen, Japan's Greatest Zen Master\n",
      "Danganronpa Volume 1\n",
      "Crown of Midnight (Throne of Glass #2)\n",
      "Codename Baboushka, Volume 1: The Conclave of Death\n",
      "Camp Midnight\n",
      "Call the Nurse: True Stories of a Country Nurse on a Scottish Isle\n",
      "Burning\n",
      "Bossypants\n",
      "Bitch Planet, Vol. 1: Extraordinary Machine (Bitch Planet (Collected Editions))\n",
      "Avatar: The Last Airbender: Smoke and Shadow, Part 3 (Smoke and Shadow #3)\n",
      "Algorithms to Live By: The Computer Science of Human Decisions\n",
      "A World of Flavor: Your Gluten Free Passport\n",
      "A Piece of Sky, a Grain of Rice: A Memoir in Four Meditations\n",
      "A Murder in Time\n",
      "A Flight of Arrows (The Pathfinders #2)\n",
      "A Fierce and Subtle Poison\n",
      "A Court of Thorns and Roses (A Court of Thorns and Roses #1)\n",
      "(Un)Qualified: How God Uses Broken People to Do Big Things\n",
      "You Are What You Love: The Spiritual Power of Habit\n",
      "William Shakespeare's Star Wars: Verily, A New Hope (William Shakespeare's Star Wars #4)\n",
      "Tuesday Nights in 1980\n",
      "Tracing Numbers on a Train\n",
      "Throne of Glass (Throne of Glass #1)\n",
      "Thomas Jefferson and the Tripoli Pirates: The Forgotten War That Changed American History\n",
      "Thirteen Reasons Why\n",
      "The White Cat and the Monk: A Retelling of the Poem âPangur BÃ¡nâ\n",
      "The Wedding Dress\n",
      "The Vacationers\n",
      "The Third Wave: An Entrepreneurâs Vision of the Future\n",
      "The Stranger\n",
      "The Shadow Hero (The Shadow Hero)\n",
      "The Secret (The Secret #1)\n",
      "The Regional Office Is Under Attack!\n",
      "The Psychopath Test: A Journey Through the Madness Industry\n",
      "The Project\n",
      "The Power of Now: A Guide to Spiritual Enlightenment\n",
      "The Omnivore's Dilemma: A Natural History of Four Meals\n",
      "The Nerdy Nummies Cookbook: Sweet Treats for the Geek in All of Us\n",
      "The Murder of Roger Ackroyd (Hercule Poirot #4)\n",
      "The Mistake (Off-Campus #2)\n",
      "The Matchmaker's Playbook (Wingmen Inc. #1)\n",
      "The Love and Lemons Cookbook: An Apple-to-Zucchini Celebration of Impromptu Cooking\n",
      "The Long Shadow of Small Ghosts: Murder and Memory in an American City\n",
      "The Kite Runner\n",
      "The House by the Lake\n",
      "The Glittering Court (The Glittering Court #1)\n",
      "The Girl on the Train\n",
      "The Genius of Birds\n",
      "The Emerald Mystery\n",
      "The Cookies & Cups Cookbook: 125+ sweet & savory recipes reminding you to Always Eat Dessert First\n",
      "The Bridge to Consciousness: I'm Writing the Bridge Between Science and Our Old and New Beliefs.\n",
      "The Artist's Way: A Spiritual Path to Higher Creativity\n",
      "The Art of War\n",
      "The Argonauts\n",
      "The 10% Entrepreneur: Live Your Startup Dream Without Quitting Your Day Job\n",
      "Suddenly in Love (Lake Haven #1)\n",
      "Something More Than This\n",
      "Soft Apocalypse\n",
      "So You've Been Publicly Shamed\n",
      "Shoe Dog: A Memoir by the Creator of NIKE\n",
      "Shobu Samurai, Project Aryoku (#3)\n",
      "Secrets and Lace (Fatal Hearts #1)\n",
      "Scarlett Epstein Hates It Here\n",
      "Romero and Juliet: A Tragic Tale of Love and Zombies\n",
      "Redeeming Love\n",
      "Poses for Artists Volume 1 - Dynamic and Sitting Poses: An Essential Reference for Figure Drawing and the Human Form\n",
      "Poems That Make Grown Women Cry\n",
      "Nightingale, Sing\n",
      "Night Sky with Exit Wounds\n",
      "Mrs. Houdini\n"
     ]
    },
    {
     "name": "stdout",
     "output_type": "stream",
     "text": [
      "Modern Romance\n",
      "Miss Peregrineâs Home for Peculiar Children (Miss Peregrineâs Peculiar Children #1)\n",
      "Louisa: The Extraordinary Life of Mrs. Adams\n",
      "Little Red\n",
      "Library of Souls (Miss Peregrineâs Peculiar Children #3)\n",
      "Large Print Heart of the Pride\n",
      "I Had a Nice Time And Other Lies...: How to find love & sh*t like that\n",
      "Hollow City (Miss Peregrineâs Peculiar Children #2)\n",
      "Grumbles\n",
      "Full Moon over Noahâs Ark: An Odyssey to Mount Ararat and Beyond\n",
      "Frostbite (Vampire Academy #2)\n",
      "Follow You Home\n",
      "First Steps for New Christians (Print Edition)\n",
      "Finders Keepers (Bill Hodges Trilogy #2)\n",
      "Fables, Vol. 1: Legends in Exile (Fables #1)\n",
      "Eureka Trivia 6.0\n",
      "Drive: The Surprising Truth About What Motivates Us\n",
      "Done Rubbed Out (Reightman & Bailey #1)\n",
      "Doing It Over (Most Likely To #1)\n",
      "Deliciously Ella Every Day: Quick and Easy Recipes for Gluten-Free Snacks, Packed Lunches, and Simple Meals\n"
     ]
    }
   ],
   "source": [
    "allPages = ['http://books.toscrape.com/catalogue/page-1.html',\n",
    "            'http://books.toscrape.com/catalogue/page-2.html',\n",
    "            'http://books.toscrape.com/catalogue/page-3.html',\n",
    "            'http://books.toscrape.com/catalogue/page-4.html',\n",
    "            'http://books.toscrape.com/catalogue/page-5.html',\n",
    "            'http://books.toscrape.com/catalogue/page-6.html',\n",
    "            'http://books.toscrape.com/catalogue/page-7.html',\n",
    "            'http://books.toscrape.com/catalogue/page-8.html',\n",
    "            'http://books.toscrape.com/catalogue/page-9.html',\n",
    "            'http://books.toscrape.com/catalogue/page-10.html']\n",
    "\n",
    "for url in allPages:\n",
    "    response = requests.get(url)\n",
    "    data = BeautifulSoup(response.text, 'html.parser')\n",
    "    books = data.find_all(class_ = 'product_pod')\n",
    "    for book in books:\n",
    "        print(book.h3.a['title'])"
   ]
  },
  {
   "cell_type": "code",
   "execution_count": 66,
   "metadata": {},
   "outputs": [
    {
     "name": "stdout",
     "output_type": "stream",
     "text": [
      "http://books.toscrape.com/catalogue/a-light-in-the-attic_1000/index.html\n"
     ]
    }
   ],
   "source": [
    "# Extract title, length of url, price, number of copies for every book\n",
    "\n",
    "response = requests.get(\"http://books.toscrape.com/\")\n",
    "data = BeautifulSoup(response.text, 'html.parser')\n",
    "\n",
    "# Extract url of first book\n",
    "\n",
    "b1 = data.find(class_ = 'product_pod')\n",
    "base_url = 'http://books.toscrape.com/'\n",
    "b1_url = base_url + b1.h3.a['href']\n",
    "print(b1_url)"
   ]
  },
  {
   "cell_type": "code",
   "execution_count": 67,
   "metadata": {},
   "outputs": [],
   "source": [
    "response = requests.get(b1_url)\n",
    "data = BeautifulSoup(response.text, 'html.parser')\n",
    "title = data.h1.string\n",
    "price = data.find(class_ = 'price_color').string\n",
    "qty = data.find(class_ = 'instock availability')\n",
    "qty = qty.contents[-1].strip()"
   ]
  },
  {
   "cell_type": "code",
   "execution_count": 68,
   "metadata": {},
   "outputs": [
    {
     "name": "stdout",
     "output_type": "stream",
     "text": [
      "A Light in the Attic http://books.toscrape.com/catalogue/a-light-in-the-attic_1000/index.html Â£51.77 In stock (22 available)\n"
     ]
    }
   ],
   "source": [
    "print(title,b1_url, price, qty)"
   ]
  },
  {
   "cell_type": "code",
   "execution_count": 69,
   "metadata": {},
   "outputs": [],
   "source": [
    "import re"
   ]
  },
  {
   "cell_type": "code",
   "execution_count": 70,
   "metadata": {},
   "outputs": [],
   "source": [
    "qty = int(re.search('\\d+', qty).group()) # group returns part of string(qty) which matches the pattern\n",
    "price = float(re.search('[\\d.]+', price).group())"
   ]
  },
  {
   "cell_type": "code",
   "execution_count": 71,
   "metadata": {},
   "outputs": [
    {
     "name": "stdout",
     "output_type": "stream",
     "text": [
      "A Light in the Attic http://books.toscrape.com/catalogue/a-light-in-the-attic_1000/index.html 51.77 22\n"
     ]
    }
   ],
   "source": [
    "print(title,b1_url, price, qty)"
   ]
  },
  {
   "cell_type": "code",
   "execution_count": 72,
   "metadata": {},
   "outputs": [],
   "source": [
    "# Creating DF and converting to csv file\n",
    "\n",
    "book_details = []\n",
    "\n",
    "book_details.append([title, b1_url, price, qty])"
   ]
  },
  {
   "cell_type": "code",
   "execution_count": 73,
   "metadata": {},
   "outputs": [],
   "source": [
    "import pandas as pd"
   ]
  },
  {
   "cell_type": "code",
   "execution_count": 74,
   "metadata": {},
   "outputs": [
    {
     "data": {
      "text/html": [
       "<div>\n",
       "<style scoped>\n",
       "    .dataframe tbody tr th:only-of-type {\n",
       "        vertical-align: middle;\n",
       "    }\n",
       "\n",
       "    .dataframe tbody tr th {\n",
       "        vertical-align: top;\n",
       "    }\n",
       "\n",
       "    .dataframe thead th {\n",
       "        text-align: right;\n",
       "    }\n",
       "</style>\n",
       "<table border=\"1\" class=\"dataframe\">\n",
       "  <thead>\n",
       "    <tr style=\"text-align: right;\">\n",
       "      <th></th>\n",
       "      <th>Title</th>\n",
       "      <th>Link</th>\n",
       "      <th>Price</th>\n",
       "      <th>Quantity_in_stock</th>\n",
       "    </tr>\n",
       "  </thead>\n",
       "  <tbody>\n",
       "    <tr>\n",
       "      <td>0</td>\n",
       "      <td>A Light in the Attic</td>\n",
       "      <td>http://books.toscrape.com/catalogue/a-light-in...</td>\n",
       "      <td>51.77</td>\n",
       "      <td>22</td>\n",
       "    </tr>\n",
       "  </tbody>\n",
       "</table>\n",
       "</div>"
      ],
      "text/plain": [
       "                  Title                                               Link  \\\n",
       "0  A Light in the Attic  http://books.toscrape.com/catalogue/a-light-in...   \n",
       "\n",
       "   Price  Quantity_in_stock  \n",
       "0  51.77                 22  "
      ]
     },
     "execution_count": 74,
     "metadata": {},
     "output_type": "execute_result"
    }
   ],
   "source": [
    "df = pd.DataFrame(book_details, columns = [\"Title\", \"Link\", \"Price\", \"Quantity_in_stock\"])\n",
    "df"
   ]
  },
  {
   "cell_type": "code",
   "execution_count": 75,
   "metadata": {},
   "outputs": [],
   "source": [
    "df.to_csv('books.csv')"
   ]
  },
  {
   "cell_type": "code",
   "execution_count": 76,
   "metadata": {},
   "outputs": [],
   "source": [
    "# Removing row indices\n",
    "\n",
    "df.to_csv('books.csv', index = False)"
   ]
  }
 ],
 "metadata": {
  "kernelspec": {
   "display_name": "Python 3",
   "language": "python",
   "name": "python3"
  },
  "language_info": {
   "codemirror_mode": {
    "name": "ipython",
    "version": 3
   },
   "file_extension": ".py",
   "mimetype": "text/x-python",
   "name": "python",
   "nbconvert_exporter": "python",
   "pygments_lexer": "ipython3",
   "version": "3.6.8"
  }
 },
 "nbformat": 4,
 "nbformat_minor": 2
}
